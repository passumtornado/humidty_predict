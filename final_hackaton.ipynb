{
 "cells": [
  {
   "cell_type": "code",
   "execution_count": 1,
   "metadata": {},
   "outputs": [],
   "source": [
    "import numpy as np\n",
    "import pandas as pd\n",
    "from matplotlib import pyplot as plt\n",
    "import seaborn as sns\n",
    "%matplotlib inline"
   ]
  },
  {
   "cell_type": "code",
   "execution_count": 2,
   "metadata": {},
   "outputs": [],
   "source": [
    "df = pd.read_csv('EORIC_AWS_Weather_Data_2019_12_12.csv',parse_dates=['Date'])"
   ]
  },
  {
   "cell_type": "code",
   "execution_count": 3,
   "metadata": {},
   "outputs": [
    {
     "data": {
      "text/html": [
       "<div>\n",
       "<style scoped>\n",
       "    .dataframe tbody tr th:only-of-type {\n",
       "        vertical-align: middle;\n",
       "    }\n",
       "\n",
       "    .dataframe tbody tr th {\n",
       "        vertical-align: top;\n",
       "    }\n",
       "\n",
       "    .dataframe thead th {\n",
       "        text-align: right;\n",
       "    }\n",
       "</style>\n",
       "<table border=\"1\" class=\"dataframe\">\n",
       "  <thead>\n",
       "    <tr style=\"text-align: right;\">\n",
       "      <th></th>\n",
       "      <th>Line#</th>\n",
       "      <th>Date</th>\n",
       "      <th>Time</th>\n",
       "      <th>speed</th>\n",
       "      <th>Pressure</th>\n",
       "      <th>Rain</th>\n",
       "      <th>Humidity</th>\n",
       "      <th>dew</th>\n",
       "      <th>solar</th>\n",
       "      <th>water</th>\n",
       "      <th>wind dir</th>\n",
       "      <th>wind speed</th>\n",
       "      <th>Temperature</th>\n",
       "    </tr>\n",
       "  </thead>\n",
       "  <tbody>\n",
       "    <tr>\n",
       "      <th>0</th>\n",
       "      <td>1</td>\n",
       "      <td>2017-02-16</td>\n",
       "      <td>3:00:00 PM</td>\n",
       "      <td>4.2</td>\n",
       "      <td>976.8</td>\n",
       "      <td>0.0</td>\n",
       "      <td>42.0</td>\n",
       "      <td>19.61</td>\n",
       "      <td>444</td>\n",
       "      <td>0.0933</td>\n",
       "      <td>154</td>\n",
       "      <td>1.1</td>\n",
       "      <td>34.36</td>\n",
       "    </tr>\n",
       "    <tr>\n",
       "      <th>1</th>\n",
       "      <td>2</td>\n",
       "      <td>2017-02-16</td>\n",
       "      <td>3:30:00 PM</td>\n",
       "      <td>4.9</td>\n",
       "      <td>976.5</td>\n",
       "      <td>0.0</td>\n",
       "      <td>40.0</td>\n",
       "      <td>19.16</td>\n",
       "      <td>338</td>\n",
       "      <td>0.0933</td>\n",
       "      <td>45</td>\n",
       "      <td>1.1</td>\n",
       "      <td>34.73</td>\n",
       "    </tr>\n",
       "    <tr>\n",
       "      <th>2</th>\n",
       "      <td>3</td>\n",
       "      <td>2017-02-16</td>\n",
       "      <td>4:00:00 PM</td>\n",
       "      <td>4.6</td>\n",
       "      <td>976.2</td>\n",
       "      <td>0.0</td>\n",
       "      <td>39.4</td>\n",
       "      <td>18.61</td>\n",
       "      <td>109</td>\n",
       "      <td>0.0933</td>\n",
       "      <td>45</td>\n",
       "      <td>1.1</td>\n",
       "      <td>34.39</td>\n",
       "    </tr>\n",
       "    <tr>\n",
       "      <th>3</th>\n",
       "      <td>4</td>\n",
       "      <td>2017-02-16</td>\n",
       "      <td>4:30:00 PM</td>\n",
       "      <td>4.2</td>\n",
       "      <td>976.1</td>\n",
       "      <td>0.0</td>\n",
       "      <td>40.0</td>\n",
       "      <td>18.92</td>\n",
       "      <td>126</td>\n",
       "      <td>0.0933</td>\n",
       "      <td>46</td>\n",
       "      <td>0.8</td>\n",
       "      <td>34.47</td>\n",
       "    </tr>\n",
       "    <tr>\n",
       "      <th>4</th>\n",
       "      <td>5</td>\n",
       "      <td>2017-02-16</td>\n",
       "      <td>5:00:00 PM</td>\n",
       "      <td>3.4</td>\n",
       "      <td>976.2</td>\n",
       "      <td>0.0</td>\n",
       "      <td>39.1</td>\n",
       "      <td>18.63</td>\n",
       "      <td>84</td>\n",
       "      <td>0.0925</td>\n",
       "      <td>100</td>\n",
       "      <td>0.8</td>\n",
       "      <td>34.55</td>\n",
       "    </tr>\n",
       "  </tbody>\n",
       "</table>\n",
       "</div>"
      ],
      "text/plain": [
       "   Line#       Date        Time  speed  Pressure  Rain  Humidity    dew  \\\n",
       "0      1 2017-02-16  3:00:00 PM    4.2     976.8   0.0      42.0  19.61   \n",
       "1      2 2017-02-16  3:30:00 PM    4.9     976.5   0.0      40.0  19.16   \n",
       "2      3 2017-02-16  4:00:00 PM    4.6     976.2   0.0      39.4  18.61   \n",
       "3      4 2017-02-16  4:30:00 PM    4.2     976.1   0.0      40.0  18.92   \n",
       "4      5 2017-02-16  5:00:00 PM    3.4     976.2   0.0      39.1  18.63   \n",
       "\n",
       "   solar   water  wind dir  wind speed  Temperature  \n",
       "0    444  0.0933       154         1.1        34.36  \n",
       "1    338  0.0933        45         1.1        34.73  \n",
       "2    109  0.0933        45         1.1        34.39  \n",
       "3    126  0.0933        46         0.8        34.47  \n",
       "4     84  0.0925       100         0.8        34.55  "
      ]
     },
     "execution_count": 3,
     "metadata": {},
     "output_type": "execute_result"
    }
   ],
   "source": [
    "df.head()"
   ]
  },
  {
   "cell_type": "code",
   "execution_count": 4,
   "metadata": {},
   "outputs": [],
   "source": [
    "df.drop(['Rain','dew','solar'],axis=1,inplace=True)"
   ]
  },
  {
   "cell_type": "code",
   "execution_count": 5,
   "metadata": {},
   "outputs": [
    {
     "data": {
      "text/html": [
       "<div>\n",
       "<style scoped>\n",
       "    .dataframe tbody tr th:only-of-type {\n",
       "        vertical-align: middle;\n",
       "    }\n",
       "\n",
       "    .dataframe tbody tr th {\n",
       "        vertical-align: top;\n",
       "    }\n",
       "\n",
       "    .dataframe thead th {\n",
       "        text-align: right;\n",
       "    }\n",
       "</style>\n",
       "<table border=\"1\" class=\"dataframe\">\n",
       "  <thead>\n",
       "    <tr style=\"text-align: right;\">\n",
       "      <th></th>\n",
       "      <th>Line#</th>\n",
       "      <th>Date</th>\n",
       "      <th>Time</th>\n",
       "      <th>speed</th>\n",
       "      <th>Pressure</th>\n",
       "      <th>Humidity</th>\n",
       "      <th>water</th>\n",
       "      <th>wind dir</th>\n",
       "      <th>wind speed</th>\n",
       "      <th>Temperature</th>\n",
       "    </tr>\n",
       "  </thead>\n",
       "  <tbody>\n",
       "    <tr>\n",
       "      <th>0</th>\n",
       "      <td>1</td>\n",
       "      <td>2017-02-16</td>\n",
       "      <td>3:00:00 PM</td>\n",
       "      <td>4.2</td>\n",
       "      <td>976.8</td>\n",
       "      <td>42.0</td>\n",
       "      <td>0.0933</td>\n",
       "      <td>154</td>\n",
       "      <td>1.1</td>\n",
       "      <td>34.36</td>\n",
       "    </tr>\n",
       "    <tr>\n",
       "      <th>1</th>\n",
       "      <td>2</td>\n",
       "      <td>2017-02-16</td>\n",
       "      <td>3:30:00 PM</td>\n",
       "      <td>4.9</td>\n",
       "      <td>976.5</td>\n",
       "      <td>40.0</td>\n",
       "      <td>0.0933</td>\n",
       "      <td>45</td>\n",
       "      <td>1.1</td>\n",
       "      <td>34.73</td>\n",
       "    </tr>\n",
       "    <tr>\n",
       "      <th>2</th>\n",
       "      <td>3</td>\n",
       "      <td>2017-02-16</td>\n",
       "      <td>4:00:00 PM</td>\n",
       "      <td>4.6</td>\n",
       "      <td>976.2</td>\n",
       "      <td>39.4</td>\n",
       "      <td>0.0933</td>\n",
       "      <td>45</td>\n",
       "      <td>1.1</td>\n",
       "      <td>34.39</td>\n",
       "    </tr>\n",
       "    <tr>\n",
       "      <th>3</th>\n",
       "      <td>4</td>\n",
       "      <td>2017-02-16</td>\n",
       "      <td>4:30:00 PM</td>\n",
       "      <td>4.2</td>\n",
       "      <td>976.1</td>\n",
       "      <td>40.0</td>\n",
       "      <td>0.0933</td>\n",
       "      <td>46</td>\n",
       "      <td>0.8</td>\n",
       "      <td>34.47</td>\n",
       "    </tr>\n",
       "    <tr>\n",
       "      <th>4</th>\n",
       "      <td>5</td>\n",
       "      <td>2017-02-16</td>\n",
       "      <td>5:00:00 PM</td>\n",
       "      <td>3.4</td>\n",
       "      <td>976.2</td>\n",
       "      <td>39.1</td>\n",
       "      <td>0.0925</td>\n",
       "      <td>100</td>\n",
       "      <td>0.8</td>\n",
       "      <td>34.55</td>\n",
       "    </tr>\n",
       "  </tbody>\n",
       "</table>\n",
       "</div>"
      ],
      "text/plain": [
       "   Line#       Date        Time  speed  Pressure  Humidity   water  wind dir  \\\n",
       "0      1 2017-02-16  3:00:00 PM    4.2     976.8      42.0  0.0933       154   \n",
       "1      2 2017-02-16  3:30:00 PM    4.9     976.5      40.0  0.0933        45   \n",
       "2      3 2017-02-16  4:00:00 PM    4.6     976.2      39.4  0.0933        45   \n",
       "3      4 2017-02-16  4:30:00 PM    4.2     976.1      40.0  0.0933        46   \n",
       "4      5 2017-02-16  5:00:00 PM    3.4     976.2      39.1  0.0925       100   \n",
       "\n",
       "   wind speed  Temperature  \n",
       "0         1.1        34.36  \n",
       "1         1.1        34.73  \n",
       "2         1.1        34.39  \n",
       "3         0.8        34.47  \n",
       "4         0.8        34.55  "
      ]
     },
     "execution_count": 5,
     "metadata": {},
     "output_type": "execute_result"
    }
   ],
   "source": [
    "df.head()"
   ]
  },
  {
   "cell_type": "code",
   "execution_count": 6,
   "metadata": {},
   "outputs": [
    {
     "data": {
      "text/plain": [
       "Line#              0\n",
       "Date               0\n",
       "Time               0\n",
       "speed              0\n",
       "Pressure           0\n",
       "Humidity           0\n",
       "water              0\n",
       "wind dir           0\n",
       "wind speed     30729\n",
       "Temperature     9402\n",
       "dtype: int64"
      ]
     },
     "execution_count": 6,
     "metadata": {},
     "output_type": "execute_result"
    }
   ],
   "source": [
    "df.isnull().sum()"
   ]
  },
  {
   "cell_type": "code",
   "execution_count": 7,
   "metadata": {},
   "outputs": [],
   "source": [
    "df.drop('wind speed',axis=1,inplace=True)"
   ]
  },
  {
   "cell_type": "code",
   "execution_count": 8,
   "metadata": {
    "scrolled": true
   },
   "outputs": [
    {
     "data": {
      "text/html": [
       "<div>\n",
       "<style scoped>\n",
       "    .dataframe tbody tr th:only-of-type {\n",
       "        vertical-align: middle;\n",
       "    }\n",
       "\n",
       "    .dataframe tbody tr th {\n",
       "        vertical-align: top;\n",
       "    }\n",
       "\n",
       "    .dataframe thead th {\n",
       "        text-align: right;\n",
       "    }\n",
       "</style>\n",
       "<table border=\"1\" class=\"dataframe\">\n",
       "  <thead>\n",
       "    <tr style=\"text-align: right;\">\n",
       "      <th></th>\n",
       "      <th>Line#</th>\n",
       "      <th>Date</th>\n",
       "      <th>Time</th>\n",
       "      <th>speed</th>\n",
       "      <th>Pressure</th>\n",
       "      <th>Humidity</th>\n",
       "      <th>water</th>\n",
       "      <th>wind dir</th>\n",
       "      <th>Temperature</th>\n",
       "    </tr>\n",
       "  </thead>\n",
       "  <tbody>\n",
       "    <tr>\n",
       "      <th>0</th>\n",
       "      <td>1</td>\n",
       "      <td>2017-02-16</td>\n",
       "      <td>3:00:00 PM</td>\n",
       "      <td>4.2</td>\n",
       "      <td>976.8</td>\n",
       "      <td>42.0</td>\n",
       "      <td>0.0933</td>\n",
       "      <td>154</td>\n",
       "      <td>34.36</td>\n",
       "    </tr>\n",
       "    <tr>\n",
       "      <th>1</th>\n",
       "      <td>2</td>\n",
       "      <td>2017-02-16</td>\n",
       "      <td>3:30:00 PM</td>\n",
       "      <td>4.9</td>\n",
       "      <td>976.5</td>\n",
       "      <td>40.0</td>\n",
       "      <td>0.0933</td>\n",
       "      <td>45</td>\n",
       "      <td>34.73</td>\n",
       "    </tr>\n",
       "    <tr>\n",
       "      <th>2</th>\n",
       "      <td>3</td>\n",
       "      <td>2017-02-16</td>\n",
       "      <td>4:00:00 PM</td>\n",
       "      <td>4.6</td>\n",
       "      <td>976.2</td>\n",
       "      <td>39.4</td>\n",
       "      <td>0.0933</td>\n",
       "      <td>45</td>\n",
       "      <td>34.39</td>\n",
       "    </tr>\n",
       "    <tr>\n",
       "      <th>3</th>\n",
       "      <td>4</td>\n",
       "      <td>2017-02-16</td>\n",
       "      <td>4:30:00 PM</td>\n",
       "      <td>4.2</td>\n",
       "      <td>976.1</td>\n",
       "      <td>40.0</td>\n",
       "      <td>0.0933</td>\n",
       "      <td>46</td>\n",
       "      <td>34.47</td>\n",
       "    </tr>\n",
       "    <tr>\n",
       "      <th>4</th>\n",
       "      <td>5</td>\n",
       "      <td>2017-02-16</td>\n",
       "      <td>5:00:00 PM</td>\n",
       "      <td>3.4</td>\n",
       "      <td>976.2</td>\n",
       "      <td>39.1</td>\n",
       "      <td>0.0925</td>\n",
       "      <td>100</td>\n",
       "      <td>34.55</td>\n",
       "    </tr>\n",
       "  </tbody>\n",
       "</table>\n",
       "</div>"
      ],
      "text/plain": [
       "   Line#       Date        Time  speed  Pressure  Humidity   water  wind dir  \\\n",
       "0      1 2017-02-16  3:00:00 PM    4.2     976.8      42.0  0.0933       154   \n",
       "1      2 2017-02-16  3:30:00 PM    4.9     976.5      40.0  0.0933        45   \n",
       "2      3 2017-02-16  4:00:00 PM    4.6     976.2      39.4  0.0933        45   \n",
       "3      4 2017-02-16  4:30:00 PM    4.2     976.1      40.0  0.0933        46   \n",
       "4      5 2017-02-16  5:00:00 PM    3.4     976.2      39.1  0.0925       100   \n",
       "\n",
       "   Temperature  \n",
       "0        34.36  \n",
       "1        34.73  \n",
       "2        34.39  \n",
       "3        34.47  \n",
       "4        34.55  "
      ]
     },
     "execution_count": 8,
     "metadata": {},
     "output_type": "execute_result"
    }
   ],
   "source": [
    "df.head()"
   ]
  },
  {
   "cell_type": "code",
   "execution_count": 9,
   "metadata": {},
   "outputs": [],
   "source": [
    "df.replace('[A-Za-z]','',regex=True,inplace=True)"
   ]
  },
  {
   "cell_type": "code",
   "execution_count": 10,
   "metadata": {
    "scrolled": true
   },
   "outputs": [
    {
     "data": {
      "text/html": [
       "<div>\n",
       "<style scoped>\n",
       "    .dataframe tbody tr th:only-of-type {\n",
       "        vertical-align: middle;\n",
       "    }\n",
       "\n",
       "    .dataframe tbody tr th {\n",
       "        vertical-align: top;\n",
       "    }\n",
       "\n",
       "    .dataframe thead th {\n",
       "        text-align: right;\n",
       "    }\n",
       "</style>\n",
       "<table border=\"1\" class=\"dataframe\">\n",
       "  <thead>\n",
       "    <tr style=\"text-align: right;\">\n",
       "      <th></th>\n",
       "      <th>Line#</th>\n",
       "      <th>Date</th>\n",
       "      <th>Time</th>\n",
       "      <th>speed</th>\n",
       "      <th>Pressure</th>\n",
       "      <th>Humidity</th>\n",
       "      <th>water</th>\n",
       "      <th>wind dir</th>\n",
       "      <th>Temperature</th>\n",
       "    </tr>\n",
       "  </thead>\n",
       "  <tbody>\n",
       "    <tr>\n",
       "      <th>0</th>\n",
       "      <td>1</td>\n",
       "      <td>2017-02-16</td>\n",
       "      <td>3:00:00</td>\n",
       "      <td>4.2</td>\n",
       "      <td>976.8</td>\n",
       "      <td>42.0</td>\n",
       "      <td>0.0933</td>\n",
       "      <td>154</td>\n",
       "      <td>34.36</td>\n",
       "    </tr>\n",
       "    <tr>\n",
       "      <th>1</th>\n",
       "      <td>2</td>\n",
       "      <td>2017-02-16</td>\n",
       "      <td>3:30:00</td>\n",
       "      <td>4.9</td>\n",
       "      <td>976.5</td>\n",
       "      <td>40.0</td>\n",
       "      <td>0.0933</td>\n",
       "      <td>45</td>\n",
       "      <td>34.73</td>\n",
       "    </tr>\n",
       "    <tr>\n",
       "      <th>2</th>\n",
       "      <td>3</td>\n",
       "      <td>2017-02-16</td>\n",
       "      <td>4:00:00</td>\n",
       "      <td>4.6</td>\n",
       "      <td>976.2</td>\n",
       "      <td>39.4</td>\n",
       "      <td>0.0933</td>\n",
       "      <td>45</td>\n",
       "      <td>34.39</td>\n",
       "    </tr>\n",
       "    <tr>\n",
       "      <th>3</th>\n",
       "      <td>4</td>\n",
       "      <td>2017-02-16</td>\n",
       "      <td>4:30:00</td>\n",
       "      <td>4.2</td>\n",
       "      <td>976.1</td>\n",
       "      <td>40.0</td>\n",
       "      <td>0.0933</td>\n",
       "      <td>46</td>\n",
       "      <td>34.47</td>\n",
       "    </tr>\n",
       "    <tr>\n",
       "      <th>4</th>\n",
       "      <td>5</td>\n",
       "      <td>2017-02-16</td>\n",
       "      <td>5:00:00</td>\n",
       "      <td>3.4</td>\n",
       "      <td>976.2</td>\n",
       "      <td>39.1</td>\n",
       "      <td>0.0925</td>\n",
       "      <td>100</td>\n",
       "      <td>34.55</td>\n",
       "    </tr>\n",
       "    <tr>\n",
       "      <th>5</th>\n",
       "      <td>6</td>\n",
       "      <td>2017-02-16</td>\n",
       "      <td>5:30:00</td>\n",
       "      <td>3.0</td>\n",
       "      <td>976.4</td>\n",
       "      <td>37.8</td>\n",
       "      <td>0.0925</td>\n",
       "      <td>108</td>\n",
       "      <td>34.47</td>\n",
       "    </tr>\n",
       "    <tr>\n",
       "      <th>6</th>\n",
       "      <td>7</td>\n",
       "      <td>2017-02-16</td>\n",
       "      <td>6:00:00</td>\n",
       "      <td>4.2</td>\n",
       "      <td>976.5</td>\n",
       "      <td>38.0</td>\n",
       "      <td>0.0918</td>\n",
       "      <td>108</td>\n",
       "      <td>33.63</td>\n",
       "    </tr>\n",
       "    <tr>\n",
       "      <th>7</th>\n",
       "      <td>8</td>\n",
       "      <td>2017-02-16</td>\n",
       "      <td>6:30:00</td>\n",
       "      <td>0.8</td>\n",
       "      <td>976.8</td>\n",
       "      <td>40.3</td>\n",
       "      <td>0.0918</td>\n",
       "      <td>117</td>\n",
       "      <td>32.07</td>\n",
       "    </tr>\n",
       "    <tr>\n",
       "      <th>8</th>\n",
       "      <td>9</td>\n",
       "      <td>2017-02-16</td>\n",
       "      <td>7:00:00</td>\n",
       "      <td>0.0</td>\n",
       "      <td>977.0</td>\n",
       "      <td>43.5</td>\n",
       "      <td>0.0911</td>\n",
       "      <td>136</td>\n",
       "      <td>31.15</td>\n",
       "    </tr>\n",
       "    <tr>\n",
       "      <th>9</th>\n",
       "      <td>10</td>\n",
       "      <td>2017-02-16</td>\n",
       "      <td>7:30:00</td>\n",
       "      <td>0.0</td>\n",
       "      <td>977.4</td>\n",
       "      <td>44.8</td>\n",
       "      <td>0.0904</td>\n",
       "      <td>136</td>\n",
       "      <td>30.65</td>\n",
       "    </tr>\n",
       "  </tbody>\n",
       "</table>\n",
       "</div>"
      ],
      "text/plain": [
       "   Line#       Date      Time  speed  Pressure  Humidity   water  wind dir  \\\n",
       "0      1 2017-02-16  3:00:00     4.2     976.8      42.0  0.0933       154   \n",
       "1      2 2017-02-16  3:30:00     4.9     976.5      40.0  0.0933        45   \n",
       "2      3 2017-02-16  4:00:00     4.6     976.2      39.4  0.0933        45   \n",
       "3      4 2017-02-16  4:30:00     4.2     976.1      40.0  0.0933        46   \n",
       "4      5 2017-02-16  5:00:00     3.4     976.2      39.1  0.0925       100   \n",
       "5      6 2017-02-16  5:30:00     3.0     976.4      37.8  0.0925       108   \n",
       "6      7 2017-02-16  6:00:00     4.2     976.5      38.0  0.0918       108   \n",
       "7      8 2017-02-16  6:30:00     0.8     976.8      40.3  0.0918       117   \n",
       "8      9 2017-02-16  7:00:00     0.0     977.0      43.5  0.0911       136   \n",
       "9     10 2017-02-16  7:30:00     0.0     977.4      44.8  0.0904       136   \n",
       "\n",
       "   Temperature  \n",
       "0        34.36  \n",
       "1        34.73  \n",
       "2        34.39  \n",
       "3        34.47  \n",
       "4        34.55  \n",
       "5        34.47  \n",
       "6        33.63  \n",
       "7        32.07  \n",
       "8        31.15  \n",
       "9        30.65  "
      ]
     },
     "execution_count": 10,
     "metadata": {},
     "output_type": "execute_result"
    }
   ],
   "source": [
    "df.head(10)"
   ]
  },
  {
   "cell_type": "code",
   "execution_count": 11,
   "metadata": {},
   "outputs": [],
   "source": [
    "df.dropna(axis=0,inplace=True)"
   ]
  },
  {
   "cell_type": "code",
   "execution_count": 12,
   "metadata": {},
   "outputs": [],
   "source": [
    "df.replace(0,np.nan,inplace=True)"
   ]
  },
  {
   "cell_type": "code",
   "execution_count": 13,
   "metadata": {},
   "outputs": [
    {
     "name": "stdout",
     "output_type": "stream",
     "text": [
      "<class 'pandas.core.frame.DataFrame'>\n",
      "Int64Index: 34177 entries, 0 to 36608\n",
      "Data columns (total 9 columns):\n",
      "Line#          34177 non-null int64\n",
      "Date           34177 non-null datetime64[ns]\n",
      "Time           34177 non-null object\n",
      "speed          30160 non-null float64\n",
      "Pressure       34177 non-null float64\n",
      "Humidity       34177 non-null float64\n",
      "water          34177 non-null float64\n",
      "wind dir       34152 non-null float64\n",
      "Temperature    34177 non-null float64\n",
      "dtypes: datetime64[ns](1), float64(6), int64(1), object(1)\n",
      "memory usage: 2.6+ MB\n"
     ]
    }
   ],
   "source": [
    "df.info()"
   ]
  },
  {
   "cell_type": "code",
   "execution_count": 14,
   "metadata": {},
   "outputs": [],
   "source": [
    "from sklearn.impute import SimpleImputer"
   ]
  },
  {
   "cell_type": "code",
   "execution_count": 15,
   "metadata": {},
   "outputs": [],
   "source": [
    "imputer = SimpleImputer(missing_values=np.nan,\n",
    "    strategy='median')"
   ]
  },
  {
   "cell_type": "code",
   "execution_count": 16,
   "metadata": {},
   "outputs": [],
   "source": [
    "flot_col = [cols for cols in df.columns if df[cols].dtype == 'float64']"
   ]
  },
  {
   "cell_type": "code",
   "execution_count": 17,
   "metadata": {},
   "outputs": [
    {
     "data": {
      "text/plain": [
       "['speed', 'Pressure', 'Humidity', 'water', 'wind dir', 'Temperature']"
      ]
     },
     "execution_count": 17,
     "metadata": {},
     "output_type": "execute_result"
    }
   ],
   "source": [
    "flot_col"
   ]
  },
  {
   "cell_type": "code",
   "execution_count": 18,
   "metadata": {},
   "outputs": [
    {
     "data": {
      "text/html": [
       "<div>\n",
       "<style scoped>\n",
       "    .dataframe tbody tr th:only-of-type {\n",
       "        vertical-align: middle;\n",
       "    }\n",
       "\n",
       "    .dataframe tbody tr th {\n",
       "        vertical-align: top;\n",
       "    }\n",
       "\n",
       "    .dataframe thead th {\n",
       "        text-align: right;\n",
       "    }\n",
       "</style>\n",
       "<table border=\"1\" class=\"dataframe\">\n",
       "  <thead>\n",
       "    <tr style=\"text-align: right;\">\n",
       "      <th></th>\n",
       "      <th>speed</th>\n",
       "      <th>Pressure</th>\n",
       "      <th>Humidity</th>\n",
       "      <th>water</th>\n",
       "      <th>wind dir</th>\n",
       "      <th>Temperature</th>\n",
       "    </tr>\n",
       "  </thead>\n",
       "  <tbody>\n",
       "    <tr>\n",
       "      <th>0</th>\n",
       "      <td>4.2</td>\n",
       "      <td>976.8</td>\n",
       "      <td>42.0</td>\n",
       "      <td>0.0933</td>\n",
       "      <td>154.0</td>\n",
       "      <td>34.36</td>\n",
       "    </tr>\n",
       "    <tr>\n",
       "      <th>1</th>\n",
       "      <td>4.9</td>\n",
       "      <td>976.5</td>\n",
       "      <td>40.0</td>\n",
       "      <td>0.0933</td>\n",
       "      <td>45.0</td>\n",
       "      <td>34.73</td>\n",
       "    </tr>\n",
       "    <tr>\n",
       "      <th>2</th>\n",
       "      <td>4.6</td>\n",
       "      <td>976.2</td>\n",
       "      <td>39.4</td>\n",
       "      <td>0.0933</td>\n",
       "      <td>45.0</td>\n",
       "      <td>34.39</td>\n",
       "    </tr>\n",
       "    <tr>\n",
       "      <th>3</th>\n",
       "      <td>4.2</td>\n",
       "      <td>976.1</td>\n",
       "      <td>40.0</td>\n",
       "      <td>0.0933</td>\n",
       "      <td>46.0</td>\n",
       "      <td>34.47</td>\n",
       "    </tr>\n",
       "    <tr>\n",
       "      <th>4</th>\n",
       "      <td>3.4</td>\n",
       "      <td>976.2</td>\n",
       "      <td>39.1</td>\n",
       "      <td>0.0925</td>\n",
       "      <td>100.0</td>\n",
       "      <td>34.55</td>\n",
       "    </tr>\n",
       "  </tbody>\n",
       "</table>\n",
       "</div>"
      ],
      "text/plain": [
       "   speed  Pressure  Humidity   water  wind dir  Temperature\n",
       "0    4.2     976.8      42.0  0.0933     154.0        34.36\n",
       "1    4.9     976.5      40.0  0.0933      45.0        34.73\n",
       "2    4.6     976.2      39.4  0.0933      45.0        34.39\n",
       "3    4.2     976.1      40.0  0.0933      46.0        34.47\n",
       "4    3.4     976.2      39.1  0.0925     100.0        34.55"
      ]
     },
     "execution_count": 18,
     "metadata": {},
     "output_type": "execute_result"
    }
   ],
   "source": [
    "df[flot_col].head()"
   ]
  },
  {
   "cell_type": "code",
   "execution_count": 19,
   "metadata": {},
   "outputs": [],
   "source": [
    "df[flot_col]= imputer.fit_transform(df[flot_col])"
   ]
  },
  {
   "cell_type": "code",
   "execution_count": 20,
   "metadata": {
    "scrolled": true
   },
   "outputs": [
    {
     "data": {
      "text/plain": [
       "speed          0\n",
       "Pressure       0\n",
       "Humidity       0\n",
       "water          0\n",
       "wind dir       0\n",
       "Temperature    0\n",
       "dtype: int64"
      ]
     },
     "execution_count": 20,
     "metadata": {},
     "output_type": "execute_result"
    }
   ],
   "source": [
    "df[flot_col].isnull().sum()"
   ]
  },
  {
   "cell_type": "code",
   "execution_count": 21,
   "metadata": {},
   "outputs": [
    {
     "name": "stdout",
     "output_type": "stream",
     "text": [
      "<class 'pandas.core.frame.DataFrame'>\n",
      "Int64Index: 34177 entries, 0 to 36608\n",
      "Data columns (total 9 columns):\n",
      "Line#          34177 non-null int64\n",
      "Date           34177 non-null datetime64[ns]\n",
      "Time           34177 non-null object\n",
      "speed          34177 non-null float64\n",
      "Pressure       34177 non-null float64\n",
      "Humidity       34177 non-null float64\n",
      "water          34177 non-null float64\n",
      "wind dir       34177 non-null float64\n",
      "Temperature    34177 non-null float64\n",
      "dtypes: datetime64[ns](1), float64(6), int64(1), object(1)\n",
      "memory usage: 2.6+ MB\n"
     ]
    }
   ],
   "source": [
    "df.info()"
   ]
  },
  {
   "cell_type": "code",
   "execution_count": 22,
   "metadata": {},
   "outputs": [
    {
     "data": {
      "text/html": [
       "<div>\n",
       "<style scoped>\n",
       "    .dataframe tbody tr th:only-of-type {\n",
       "        vertical-align: middle;\n",
       "    }\n",
       "\n",
       "    .dataframe tbody tr th {\n",
       "        vertical-align: top;\n",
       "    }\n",
       "\n",
       "    .dataframe thead th {\n",
       "        text-align: right;\n",
       "    }\n",
       "</style>\n",
       "<table border=\"1\" class=\"dataframe\">\n",
       "  <thead>\n",
       "    <tr style=\"text-align: right;\">\n",
       "      <th></th>\n",
       "      <th>Line#</th>\n",
       "      <th>Date</th>\n",
       "      <th>Time</th>\n",
       "      <th>speed</th>\n",
       "      <th>Pressure</th>\n",
       "      <th>Humidity</th>\n",
       "      <th>water</th>\n",
       "      <th>wind dir</th>\n",
       "      <th>Temperature</th>\n",
       "    </tr>\n",
       "  </thead>\n",
       "  <tbody>\n",
       "    <tr>\n",
       "      <th>36599</th>\n",
       "      <td>36600</td>\n",
       "      <td>2019-04-28</td>\n",
       "      <td>3:30:00</td>\n",
       "      <td>2.3</td>\n",
       "      <td>978.9</td>\n",
       "      <td>94.3</td>\n",
       "      <td>0.2182</td>\n",
       "      <td>202.0</td>\n",
       "      <td>25.21</td>\n",
       "    </tr>\n",
       "    <tr>\n",
       "      <th>36600</th>\n",
       "      <td>36601</td>\n",
       "      <td>2019-04-28</td>\n",
       "      <td>4:00:00</td>\n",
       "      <td>2.7</td>\n",
       "      <td>978.9</td>\n",
       "      <td>94.5</td>\n",
       "      <td>0.2182</td>\n",
       "      <td>208.0</td>\n",
       "      <td>24.97</td>\n",
       "    </tr>\n",
       "    <tr>\n",
       "      <th>36601</th>\n",
       "      <td>36602</td>\n",
       "      <td>2019-04-28</td>\n",
       "      <td>4:30:00</td>\n",
       "      <td>1.5</td>\n",
       "      <td>979.0</td>\n",
       "      <td>94.8</td>\n",
       "      <td>0.2175</td>\n",
       "      <td>205.0</td>\n",
       "      <td>24.70</td>\n",
       "    </tr>\n",
       "    <tr>\n",
       "      <th>36602</th>\n",
       "      <td>36603</td>\n",
       "      <td>2019-04-28</td>\n",
       "      <td>5:00:00</td>\n",
       "      <td>1.5</td>\n",
       "      <td>979.3</td>\n",
       "      <td>95.2</td>\n",
       "      <td>0.2175</td>\n",
       "      <td>211.0</td>\n",
       "      <td>24.65</td>\n",
       "    </tr>\n",
       "    <tr>\n",
       "      <th>36603</th>\n",
       "      <td>36604</td>\n",
       "      <td>2019-04-28</td>\n",
       "      <td>5:30:00</td>\n",
       "      <td>3.8</td>\n",
       "      <td>979.4</td>\n",
       "      <td>95.2</td>\n",
       "      <td>0.2167</td>\n",
       "      <td>194.0</td>\n",
       "      <td>24.58</td>\n",
       "    </tr>\n",
       "    <tr>\n",
       "      <th>36604</th>\n",
       "      <td>36605</td>\n",
       "      <td>2019-04-28</td>\n",
       "      <td>6:00:00</td>\n",
       "      <td>3.4</td>\n",
       "      <td>979.4</td>\n",
       "      <td>95.5</td>\n",
       "      <td>0.2175</td>\n",
       "      <td>194.0</td>\n",
       "      <td>24.29</td>\n",
       "    </tr>\n",
       "    <tr>\n",
       "      <th>36605</th>\n",
       "      <td>36606</td>\n",
       "      <td>2019-04-28</td>\n",
       "      <td>6:30:00</td>\n",
       "      <td>2.3</td>\n",
       "      <td>979.7</td>\n",
       "      <td>96.1</td>\n",
       "      <td>0.2167</td>\n",
       "      <td>192.0</td>\n",
       "      <td>24.63</td>\n",
       "    </tr>\n",
       "    <tr>\n",
       "      <th>36606</th>\n",
       "      <td>36607</td>\n",
       "      <td>2019-04-28</td>\n",
       "      <td>7:00:00</td>\n",
       "      <td>2.7</td>\n",
       "      <td>979.9</td>\n",
       "      <td>95.8</td>\n",
       "      <td>0.2167</td>\n",
       "      <td>198.0</td>\n",
       "      <td>25.70</td>\n",
       "    </tr>\n",
       "    <tr>\n",
       "      <th>36607</th>\n",
       "      <td>36608</td>\n",
       "      <td>2019-04-28</td>\n",
       "      <td>7:30:00</td>\n",
       "      <td>3.0</td>\n",
       "      <td>980.4</td>\n",
       "      <td>93.9</td>\n",
       "      <td>0.2167</td>\n",
       "      <td>205.0</td>\n",
       "      <td>26.62</td>\n",
       "    </tr>\n",
       "    <tr>\n",
       "      <th>36608</th>\n",
       "      <td>36609</td>\n",
       "      <td>2019-04-28</td>\n",
       "      <td>8:00:00</td>\n",
       "      <td>4.2</td>\n",
       "      <td>980.8</td>\n",
       "      <td>90.4</td>\n",
       "      <td>0.2167</td>\n",
       "      <td>239.0</td>\n",
       "      <td>27.23</td>\n",
       "    </tr>\n",
       "  </tbody>\n",
       "</table>\n",
       "</div>"
      ],
      "text/plain": [
       "       Line#       Date      Time  speed  Pressure  Humidity   water  \\\n",
       "36599  36600 2019-04-28  3:30:00     2.3     978.9      94.3  0.2182   \n",
       "36600  36601 2019-04-28  4:00:00     2.7     978.9      94.5  0.2182   \n",
       "36601  36602 2019-04-28  4:30:00     1.5     979.0      94.8  0.2175   \n",
       "36602  36603 2019-04-28  5:00:00     1.5     979.3      95.2  0.2175   \n",
       "36603  36604 2019-04-28  5:30:00     3.8     979.4      95.2  0.2167   \n",
       "36604  36605 2019-04-28  6:00:00     3.4     979.4      95.5  0.2175   \n",
       "36605  36606 2019-04-28  6:30:00     2.3     979.7      96.1  0.2167   \n",
       "36606  36607 2019-04-28  7:00:00     2.7     979.9      95.8  0.2167   \n",
       "36607  36608 2019-04-28  7:30:00     3.0     980.4      93.9  0.2167   \n",
       "36608  36609 2019-04-28  8:00:00     4.2     980.8      90.4  0.2167   \n",
       "\n",
       "       wind dir  Temperature  \n",
       "36599     202.0        25.21  \n",
       "36600     208.0        24.97  \n",
       "36601     205.0        24.70  \n",
       "36602     211.0        24.65  \n",
       "36603     194.0        24.58  \n",
       "36604     194.0        24.29  \n",
       "36605     192.0        24.63  \n",
       "36606     198.0        25.70  \n",
       "36607     205.0        26.62  \n",
       "36608     239.0        27.23  "
      ]
     },
     "execution_count": 22,
     "metadata": {},
     "output_type": "execute_result"
    }
   ],
   "source": [
    "df.tail(10)"
   ]
  },
  {
   "cell_type": "code",
   "execution_count": 23,
   "metadata": {},
   "outputs": [],
   "source": [
    "df.drop('Line#',axis=True,inplace=True)"
   ]
  },
  {
   "cell_type": "code",
   "execution_count": 24,
   "metadata": {},
   "outputs": [
    {
     "data": {
      "text/html": [
       "<div>\n",
       "<style scoped>\n",
       "    .dataframe tbody tr th:only-of-type {\n",
       "        vertical-align: middle;\n",
       "    }\n",
       "\n",
       "    .dataframe tbody tr th {\n",
       "        vertical-align: top;\n",
       "    }\n",
       "\n",
       "    .dataframe thead th {\n",
       "        text-align: right;\n",
       "    }\n",
       "</style>\n",
       "<table border=\"1\" class=\"dataframe\">\n",
       "  <thead>\n",
       "    <tr style=\"text-align: right;\">\n",
       "      <th></th>\n",
       "      <th>Date</th>\n",
       "      <th>Time</th>\n",
       "      <th>speed</th>\n",
       "      <th>Pressure</th>\n",
       "      <th>Humidity</th>\n",
       "      <th>water</th>\n",
       "      <th>wind dir</th>\n",
       "      <th>Temperature</th>\n",
       "    </tr>\n",
       "  </thead>\n",
       "  <tbody>\n",
       "    <tr>\n",
       "      <th>0</th>\n",
       "      <td>2017-02-16</td>\n",
       "      <td>3:00:00</td>\n",
       "      <td>4.2</td>\n",
       "      <td>976.8</td>\n",
       "      <td>42.0</td>\n",
       "      <td>0.0933</td>\n",
       "      <td>154.0</td>\n",
       "      <td>34.36</td>\n",
       "    </tr>\n",
       "    <tr>\n",
       "      <th>1</th>\n",
       "      <td>2017-02-16</td>\n",
       "      <td>3:30:00</td>\n",
       "      <td>4.9</td>\n",
       "      <td>976.5</td>\n",
       "      <td>40.0</td>\n",
       "      <td>0.0933</td>\n",
       "      <td>45.0</td>\n",
       "      <td>34.73</td>\n",
       "    </tr>\n",
       "    <tr>\n",
       "      <th>2</th>\n",
       "      <td>2017-02-16</td>\n",
       "      <td>4:00:00</td>\n",
       "      <td>4.6</td>\n",
       "      <td>976.2</td>\n",
       "      <td>39.4</td>\n",
       "      <td>0.0933</td>\n",
       "      <td>45.0</td>\n",
       "      <td>34.39</td>\n",
       "    </tr>\n",
       "    <tr>\n",
       "      <th>3</th>\n",
       "      <td>2017-02-16</td>\n",
       "      <td>4:30:00</td>\n",
       "      <td>4.2</td>\n",
       "      <td>976.1</td>\n",
       "      <td>40.0</td>\n",
       "      <td>0.0933</td>\n",
       "      <td>46.0</td>\n",
       "      <td>34.47</td>\n",
       "    </tr>\n",
       "    <tr>\n",
       "      <th>4</th>\n",
       "      <td>2017-02-16</td>\n",
       "      <td>5:00:00</td>\n",
       "      <td>3.4</td>\n",
       "      <td>976.2</td>\n",
       "      <td>39.1</td>\n",
       "      <td>0.0925</td>\n",
       "      <td>100.0</td>\n",
       "      <td>34.55</td>\n",
       "    </tr>\n",
       "  </tbody>\n",
       "</table>\n",
       "</div>"
      ],
      "text/plain": [
       "        Date      Time  speed  Pressure  Humidity   water  wind dir  \\\n",
       "0 2017-02-16  3:00:00     4.2     976.8      42.0  0.0933     154.0   \n",
       "1 2017-02-16  3:30:00     4.9     976.5      40.0  0.0933      45.0   \n",
       "2 2017-02-16  4:00:00     4.6     976.2      39.4  0.0933      45.0   \n",
       "3 2017-02-16  4:30:00     4.2     976.1      40.0  0.0933      46.0   \n",
       "4 2017-02-16  5:00:00     3.4     976.2      39.1  0.0925     100.0   \n",
       "\n",
       "   Temperature  \n",
       "0        34.36  \n",
       "1        34.73  \n",
       "2        34.39  \n",
       "3        34.47  \n",
       "4        34.55  "
      ]
     },
     "execution_count": 24,
     "metadata": {},
     "output_type": "execute_result"
    }
   ],
   "source": [
    "df.head()"
   ]
  },
  {
   "cell_type": "code",
   "execution_count": 25,
   "metadata": {},
   "outputs": [],
   "source": [
    "new_date =[]\n",
    "new_time =[]\n",
    "for i in range(len(df)):\n",
    "    if(i % 2 ==0):\n",
    "        continue\n",
    "    else:\n",
    "        new_date.append(df.iloc[i]['Date'])\n",
    "        new_time.append(df.iloc[i]['Time'])"
   ]
  },
  {
   "cell_type": "code",
   "execution_count": 26,
   "metadata": {},
   "outputs": [],
   "source": [
    "new_temp = []\n",
    "new_windspeed=[]\n",
    "new_winddir=[]\n",
    "new_water = []\n",
    "new_pres=[]\n",
    "new_humid=[]\n",
    "for i in range(len(df)):\n",
    "    if(i % 2 ==0):\n",
    "        continue\n",
    "    else:\n",
    "        new_pres.append((df.iloc[i]['Pressure']+df.iloc[i+1]['Pressure'])/2)\n",
    "        new_temp.append((df.iloc[i]['Temperature']+df.iloc[i+1]['Temperature'])/2)\n",
    "        new_windspeed.append((df.iloc[i]['speed']+df.iloc[i+1]['speed'])/2)\n",
    "        new_winddir.append((df.iloc[i]['wind dir']+df.iloc[i+1]['wind dir'])/2)\n",
    "        new_water.append((df.iloc[i]['water']+df.iloc[i+1]['water'])/2)\n",
    "        new_humid.append((df.iloc[i]['Humidity']+df.iloc[i+1]['Humidity'])/2)"
   ]
  },
  {
   "cell_type": "code",
   "execution_count": 27,
   "metadata": {
    "scrolled": true
   },
   "outputs": [],
   "source": [
    "newData = pd.DataFrame({'Date':new_date,\n",
    "                          'Time':new_time,\n",
    "                          'windSpeed':new_windspeed,\n",
    "                          'Water':new_water,\n",
    "                          'Wind dir':new_winddir,\n",
    "                          'Pressure':new_pres,\n",
    "                          'Temperature':new_temp,\n",
    "                          'RH':new_humid\n",
    "                          })"
   ]
  },
  {
   "cell_type": "code",
   "execution_count": 28,
   "metadata": {},
   "outputs": [
    {
     "data": {
      "text/html": [
       "<div>\n",
       "<style scoped>\n",
       "    .dataframe tbody tr th:only-of-type {\n",
       "        vertical-align: middle;\n",
       "    }\n",
       "\n",
       "    .dataframe tbody tr th {\n",
       "        vertical-align: top;\n",
       "    }\n",
       "\n",
       "    .dataframe thead th {\n",
       "        text-align: right;\n",
       "    }\n",
       "</style>\n",
       "<table border=\"1\" class=\"dataframe\">\n",
       "  <thead>\n",
       "    <tr style=\"text-align: right;\">\n",
       "      <th></th>\n",
       "      <th>Date</th>\n",
       "      <th>Time</th>\n",
       "      <th>windSpeed</th>\n",
       "      <th>Water</th>\n",
       "      <th>Wind dir</th>\n",
       "      <th>Pressure</th>\n",
       "      <th>Temperature</th>\n",
       "      <th>RH</th>\n",
       "    </tr>\n",
       "  </thead>\n",
       "  <tbody>\n",
       "    <tr>\n",
       "      <th>0</th>\n",
       "      <td>2017-02-16</td>\n",
       "      <td>3:30:00</td>\n",
       "      <td>4.75</td>\n",
       "      <td>0.09330</td>\n",
       "      <td>45.0</td>\n",
       "      <td>976.35</td>\n",
       "      <td>34.56</td>\n",
       "      <td>39.70</td>\n",
       "    </tr>\n",
       "    <tr>\n",
       "      <th>1</th>\n",
       "      <td>2017-02-16</td>\n",
       "      <td>4:30:00</td>\n",
       "      <td>3.80</td>\n",
       "      <td>0.09290</td>\n",
       "      <td>73.0</td>\n",
       "      <td>976.15</td>\n",
       "      <td>34.51</td>\n",
       "      <td>39.55</td>\n",
       "    </tr>\n",
       "    <tr>\n",
       "      <th>2</th>\n",
       "      <td>2017-02-16</td>\n",
       "      <td>5:30:00</td>\n",
       "      <td>3.60</td>\n",
       "      <td>0.09215</td>\n",
       "      <td>108.0</td>\n",
       "      <td>976.45</td>\n",
       "      <td>34.05</td>\n",
       "      <td>37.90</td>\n",
       "    </tr>\n",
       "    <tr>\n",
       "      <th>3</th>\n",
       "      <td>2017-02-16</td>\n",
       "      <td>6:30:00</td>\n",
       "      <td>2.30</td>\n",
       "      <td>0.09145</td>\n",
       "      <td>126.5</td>\n",
       "      <td>976.90</td>\n",
       "      <td>31.61</td>\n",
       "      <td>41.90</td>\n",
       "    </tr>\n",
       "    <tr>\n",
       "      <th>4</th>\n",
       "      <td>2017-02-16</td>\n",
       "      <td>7:30:00</td>\n",
       "      <td>3.80</td>\n",
       "      <td>0.09040</td>\n",
       "      <td>136.0</td>\n",
       "      <td>977.75</td>\n",
       "      <td>30.47</td>\n",
       "      <td>44.50</td>\n",
       "    </tr>\n",
       "  </tbody>\n",
       "</table>\n",
       "</div>"
      ],
      "text/plain": [
       "        Date      Time  windSpeed    Water  Wind dir  Pressure  Temperature  \\\n",
       "0 2017-02-16  3:30:00        4.75  0.09330      45.0    976.35        34.56   \n",
       "1 2017-02-16  4:30:00        3.80  0.09290      73.0    976.15        34.51   \n",
       "2 2017-02-16  5:30:00        3.60  0.09215     108.0    976.45        34.05   \n",
       "3 2017-02-16  6:30:00        2.30  0.09145     126.5    976.90        31.61   \n",
       "4 2017-02-16  7:30:00        3.80  0.09040     136.0    977.75        30.47   \n",
       "\n",
       "      RH  \n",
       "0  39.70  \n",
       "1  39.55  \n",
       "2  37.90  \n",
       "3  41.90  \n",
       "4  44.50  "
      ]
     },
     "execution_count": 28,
     "metadata": {},
     "output_type": "execute_result"
    }
   ],
   "source": [
    "newData.head()"
   ]
  },
  {
   "cell_type": "code",
   "execution_count": 29,
   "metadata": {},
   "outputs": [
    {
     "data": {
      "text/plain": [
       "(17088, 8)"
      ]
     },
     "execution_count": 29,
     "metadata": {},
     "output_type": "execute_result"
    }
   ],
   "source": [
    "newData.shape"
   ]
  },
  {
   "cell_type": "code",
   "execution_count": 30,
   "metadata": {},
   "outputs": [],
   "source": [
    "newData['Month'] = newData['Date'].dt.month"
   ]
  },
  {
   "cell_type": "code",
   "execution_count": 31,
   "metadata": {},
   "outputs": [],
   "source": [
    "newData['Hour'] = newData['Date'].dt.hour"
   ]
  },
  {
   "cell_type": "code",
   "execution_count": 32,
   "metadata": {},
   "outputs": [
    {
     "data": {
      "text/html": [
       "<div>\n",
       "<style scoped>\n",
       "    .dataframe tbody tr th:only-of-type {\n",
       "        vertical-align: middle;\n",
       "    }\n",
       "\n",
       "    .dataframe tbody tr th {\n",
       "        vertical-align: top;\n",
       "    }\n",
       "\n",
       "    .dataframe thead th {\n",
       "        text-align: right;\n",
       "    }\n",
       "</style>\n",
       "<table border=\"1\" class=\"dataframe\">\n",
       "  <thead>\n",
       "    <tr style=\"text-align: right;\">\n",
       "      <th></th>\n",
       "      <th>Date</th>\n",
       "      <th>Time</th>\n",
       "      <th>windSpeed</th>\n",
       "      <th>Water</th>\n",
       "      <th>Wind dir</th>\n",
       "      <th>Pressure</th>\n",
       "      <th>Temperature</th>\n",
       "      <th>RH</th>\n",
       "      <th>Month</th>\n",
       "      <th>Hour</th>\n",
       "    </tr>\n",
       "  </thead>\n",
       "  <tbody>\n",
       "    <tr>\n",
       "      <th>0</th>\n",
       "      <td>2017-02-16</td>\n",
       "      <td>3:30:00</td>\n",
       "      <td>4.75</td>\n",
       "      <td>0.09330</td>\n",
       "      <td>45.0</td>\n",
       "      <td>976.35</td>\n",
       "      <td>34.56</td>\n",
       "      <td>39.70</td>\n",
       "      <td>2</td>\n",
       "      <td>0</td>\n",
       "    </tr>\n",
       "    <tr>\n",
       "      <th>1</th>\n",
       "      <td>2017-02-16</td>\n",
       "      <td>4:30:00</td>\n",
       "      <td>3.80</td>\n",
       "      <td>0.09290</td>\n",
       "      <td>73.0</td>\n",
       "      <td>976.15</td>\n",
       "      <td>34.51</td>\n",
       "      <td>39.55</td>\n",
       "      <td>2</td>\n",
       "      <td>0</td>\n",
       "    </tr>\n",
       "    <tr>\n",
       "      <th>2</th>\n",
       "      <td>2017-02-16</td>\n",
       "      <td>5:30:00</td>\n",
       "      <td>3.60</td>\n",
       "      <td>0.09215</td>\n",
       "      <td>108.0</td>\n",
       "      <td>976.45</td>\n",
       "      <td>34.05</td>\n",
       "      <td>37.90</td>\n",
       "      <td>2</td>\n",
       "      <td>0</td>\n",
       "    </tr>\n",
       "    <tr>\n",
       "      <th>3</th>\n",
       "      <td>2017-02-16</td>\n",
       "      <td>6:30:00</td>\n",
       "      <td>2.30</td>\n",
       "      <td>0.09145</td>\n",
       "      <td>126.5</td>\n",
       "      <td>976.90</td>\n",
       "      <td>31.61</td>\n",
       "      <td>41.90</td>\n",
       "      <td>2</td>\n",
       "      <td>0</td>\n",
       "    </tr>\n",
       "    <tr>\n",
       "      <th>4</th>\n",
       "      <td>2017-02-16</td>\n",
       "      <td>7:30:00</td>\n",
       "      <td>3.80</td>\n",
       "      <td>0.09040</td>\n",
       "      <td>136.0</td>\n",
       "      <td>977.75</td>\n",
       "      <td>30.47</td>\n",
       "      <td>44.50</td>\n",
       "      <td>2</td>\n",
       "      <td>0</td>\n",
       "    </tr>\n",
       "  </tbody>\n",
       "</table>\n",
       "</div>"
      ],
      "text/plain": [
       "        Date      Time  windSpeed    Water  Wind dir  Pressure  Temperature  \\\n",
       "0 2017-02-16  3:30:00        4.75  0.09330      45.0    976.35        34.56   \n",
       "1 2017-02-16  4:30:00        3.80  0.09290      73.0    976.15        34.51   \n",
       "2 2017-02-16  5:30:00        3.60  0.09215     108.0    976.45        34.05   \n",
       "3 2017-02-16  6:30:00        2.30  0.09145     126.5    976.90        31.61   \n",
       "4 2017-02-16  7:30:00        3.80  0.09040     136.0    977.75        30.47   \n",
       "\n",
       "      RH  Month  Hour  \n",
       "0  39.70      2     0  \n",
       "1  39.55      2     0  \n",
       "2  37.90      2     0  \n",
       "3  41.90      2     0  \n",
       "4  44.50      2     0  "
      ]
     },
     "execution_count": 32,
     "metadata": {},
     "output_type": "execute_result"
    }
   ],
   "source": [
    "newData.head()"
   ]
  },
  {
   "cell_type": "code",
   "execution_count": 33,
   "metadata": {},
   "outputs": [
    {
     "data": {
      "text/html": [
       "<div>\n",
       "<style scoped>\n",
       "    .dataframe tbody tr th:only-of-type {\n",
       "        vertical-align: middle;\n",
       "    }\n",
       "\n",
       "    .dataframe tbody tr th {\n",
       "        vertical-align: top;\n",
       "    }\n",
       "\n",
       "    .dataframe thead th {\n",
       "        text-align: right;\n",
       "    }\n",
       "</style>\n",
       "<table border=\"1\" class=\"dataframe\">\n",
       "  <thead>\n",
       "    <tr style=\"text-align: right;\">\n",
       "      <th></th>\n",
       "      <th>Date</th>\n",
       "      <th>Time</th>\n",
       "      <th>windSpeed</th>\n",
       "      <th>Water</th>\n",
       "      <th>Wind dir</th>\n",
       "      <th>Pressure</th>\n",
       "      <th>Temperature</th>\n",
       "      <th>RH</th>\n",
       "      <th>Month</th>\n",
       "      <th>Hour</th>\n",
       "    </tr>\n",
       "  </thead>\n",
       "  <tbody>\n",
       "    <tr>\n",
       "      <th>17068</th>\n",
       "      <td>2019-04-27</td>\n",
       "      <td>12:30:00</td>\n",
       "      <td>5.70</td>\n",
       "      <td>0.22875</td>\n",
       "      <td>188.0</td>\n",
       "      <td>979.05</td>\n",
       "      <td>31.380</td>\n",
       "      <td>73.00</td>\n",
       "      <td>4</td>\n",
       "      <td>0</td>\n",
       "    </tr>\n",
       "    <tr>\n",
       "      <th>17069</th>\n",
       "      <td>2019-04-27</td>\n",
       "      <td>1:30:00</td>\n",
       "      <td>5.50</td>\n",
       "      <td>0.22725</td>\n",
       "      <td>225.5</td>\n",
       "      <td>978.10</td>\n",
       "      <td>32.805</td>\n",
       "      <td>68.70</td>\n",
       "      <td>4</td>\n",
       "      <td>0</td>\n",
       "    </tr>\n",
       "    <tr>\n",
       "      <th>17070</th>\n",
       "      <td>2019-04-27</td>\n",
       "      <td>2:30:00</td>\n",
       "      <td>4.60</td>\n",
       "      <td>0.22620</td>\n",
       "      <td>211.0</td>\n",
       "      <td>977.30</td>\n",
       "      <td>32.500</td>\n",
       "      <td>68.10</td>\n",
       "      <td>4</td>\n",
       "      <td>0</td>\n",
       "    </tr>\n",
       "    <tr>\n",
       "      <th>17071</th>\n",
       "      <td>2019-04-27</td>\n",
       "      <td>3:30:00</td>\n",
       "      <td>3.80</td>\n",
       "      <td>0.22505</td>\n",
       "      <td>227.0</td>\n",
       "      <td>977.00</td>\n",
       "      <td>32.425</td>\n",
       "      <td>69.75</td>\n",
       "      <td>4</td>\n",
       "      <td>0</td>\n",
       "    </tr>\n",
       "    <tr>\n",
       "      <th>17072</th>\n",
       "      <td>2019-04-27</td>\n",
       "      <td>4:30:00</td>\n",
       "      <td>2.85</td>\n",
       "      <td>0.22435</td>\n",
       "      <td>254.0</td>\n",
       "      <td>976.95</td>\n",
       "      <td>31.420</td>\n",
       "      <td>71.90</td>\n",
       "      <td>4</td>\n",
       "      <td>0</td>\n",
       "    </tr>\n",
       "    <tr>\n",
       "      <th>17073</th>\n",
       "      <td>2019-04-27</td>\n",
       "      <td>5:30:00</td>\n",
       "      <td>4.40</td>\n",
       "      <td>0.22330</td>\n",
       "      <td>260.0</td>\n",
       "      <td>977.30</td>\n",
       "      <td>29.355</td>\n",
       "      <td>77.60</td>\n",
       "      <td>4</td>\n",
       "      <td>0</td>\n",
       "    </tr>\n",
       "    <tr>\n",
       "      <th>17074</th>\n",
       "      <td>2019-04-27</td>\n",
       "      <td>6:30:00</td>\n",
       "      <td>2.85</td>\n",
       "      <td>0.22250</td>\n",
       "      <td>264.0</td>\n",
       "      <td>977.90</td>\n",
       "      <td>28.180</td>\n",
       "      <td>82.40</td>\n",
       "      <td>4</td>\n",
       "      <td>0</td>\n",
       "    </tr>\n",
       "    <tr>\n",
       "      <th>17075</th>\n",
       "      <td>2019-04-27</td>\n",
       "      <td>7:30:00</td>\n",
       "      <td>1.30</td>\n",
       "      <td>0.22180</td>\n",
       "      <td>264.5</td>\n",
       "      <td>978.70</td>\n",
       "      <td>27.675</td>\n",
       "      <td>84.60</td>\n",
       "      <td>4</td>\n",
       "      <td>0</td>\n",
       "    </tr>\n",
       "    <tr>\n",
       "      <th>17076</th>\n",
       "      <td>2019-04-27</td>\n",
       "      <td>8:30:00</td>\n",
       "      <td>0.75</td>\n",
       "      <td>0.22110</td>\n",
       "      <td>267.0</td>\n",
       "      <td>979.55</td>\n",
       "      <td>27.345</td>\n",
       "      <td>86.00</td>\n",
       "      <td>4</td>\n",
       "      <td>0</td>\n",
       "    </tr>\n",
       "    <tr>\n",
       "      <th>17077</th>\n",
       "      <td>2019-04-27</td>\n",
       "      <td>9:30:00</td>\n",
       "      <td>2.10</td>\n",
       "      <td>0.22040</td>\n",
       "      <td>267.0</td>\n",
       "      <td>980.25</td>\n",
       "      <td>26.890</td>\n",
       "      <td>87.30</td>\n",
       "      <td>4</td>\n",
       "      <td>0</td>\n",
       "    </tr>\n",
       "    <tr>\n",
       "      <th>17078</th>\n",
       "      <td>2019-04-27</td>\n",
       "      <td>10:30:00</td>\n",
       "      <td>2.65</td>\n",
       "      <td>0.21960</td>\n",
       "      <td>267.0</td>\n",
       "      <td>980.55</td>\n",
       "      <td>26.620</td>\n",
       "      <td>88.40</td>\n",
       "      <td>4</td>\n",
       "      <td>0</td>\n",
       "    </tr>\n",
       "    <tr>\n",
       "      <th>17079</th>\n",
       "      <td>2019-04-27</td>\n",
       "      <td>11:30:00</td>\n",
       "      <td>1.15</td>\n",
       "      <td>0.21960</td>\n",
       "      <td>267.0</td>\n",
       "      <td>980.65</td>\n",
       "      <td>26.340</td>\n",
       "      <td>89.35</td>\n",
       "      <td>4</td>\n",
       "      <td>0</td>\n",
       "    </tr>\n",
       "    <tr>\n",
       "      <th>17080</th>\n",
       "      <td>2019-04-28</td>\n",
       "      <td>12:30:00</td>\n",
       "      <td>1.90</td>\n",
       "      <td>0.21890</td>\n",
       "      <td>265.0</td>\n",
       "      <td>980.10</td>\n",
       "      <td>25.890</td>\n",
       "      <td>90.75</td>\n",
       "      <td>4</td>\n",
       "      <td>0</td>\n",
       "    </tr>\n",
       "    <tr>\n",
       "      <th>17081</th>\n",
       "      <td>2019-04-28</td>\n",
       "      <td>1:30:00</td>\n",
       "      <td>3.80</td>\n",
       "      <td>0.21890</td>\n",
       "      <td>201.5</td>\n",
       "      <td>979.80</td>\n",
       "      <td>25.575</td>\n",
       "      <td>92.25</td>\n",
       "      <td>4</td>\n",
       "      <td>0</td>\n",
       "    </tr>\n",
       "    <tr>\n",
       "      <th>17082</th>\n",
       "      <td>2019-04-28</td>\n",
       "      <td>2:30:00</td>\n",
       "      <td>2.25</td>\n",
       "      <td>0.21820</td>\n",
       "      <td>194.5</td>\n",
       "      <td>979.30</td>\n",
       "      <td>25.475</td>\n",
       "      <td>93.45</td>\n",
       "      <td>4</td>\n",
       "      <td>0</td>\n",
       "    </tr>\n",
       "    <tr>\n",
       "      <th>17083</th>\n",
       "      <td>2019-04-28</td>\n",
       "      <td>3:30:00</td>\n",
       "      <td>2.50</td>\n",
       "      <td>0.21820</td>\n",
       "      <td>205.0</td>\n",
       "      <td>978.90</td>\n",
       "      <td>25.090</td>\n",
       "      <td>94.40</td>\n",
       "      <td>4</td>\n",
       "      <td>0</td>\n",
       "    </tr>\n",
       "    <tr>\n",
       "      <th>17084</th>\n",
       "      <td>2019-04-28</td>\n",
       "      <td>4:30:00</td>\n",
       "      <td>1.50</td>\n",
       "      <td>0.21750</td>\n",
       "      <td>208.0</td>\n",
       "      <td>979.15</td>\n",
       "      <td>24.675</td>\n",
       "      <td>95.00</td>\n",
       "      <td>4</td>\n",
       "      <td>0</td>\n",
       "    </tr>\n",
       "    <tr>\n",
       "      <th>17085</th>\n",
       "      <td>2019-04-28</td>\n",
       "      <td>5:30:00</td>\n",
       "      <td>3.60</td>\n",
       "      <td>0.21710</td>\n",
       "      <td>194.0</td>\n",
       "      <td>979.40</td>\n",
       "      <td>24.435</td>\n",
       "      <td>95.35</td>\n",
       "      <td>4</td>\n",
       "      <td>0</td>\n",
       "    </tr>\n",
       "    <tr>\n",
       "      <th>17086</th>\n",
       "      <td>2019-04-28</td>\n",
       "      <td>6:30:00</td>\n",
       "      <td>2.50</td>\n",
       "      <td>0.21670</td>\n",
       "      <td>195.0</td>\n",
       "      <td>979.80</td>\n",
       "      <td>25.165</td>\n",
       "      <td>95.95</td>\n",
       "      <td>4</td>\n",
       "      <td>0</td>\n",
       "    </tr>\n",
       "    <tr>\n",
       "      <th>17087</th>\n",
       "      <td>2019-04-28</td>\n",
       "      <td>7:30:00</td>\n",
       "      <td>3.60</td>\n",
       "      <td>0.21670</td>\n",
       "      <td>222.0</td>\n",
       "      <td>980.60</td>\n",
       "      <td>26.925</td>\n",
       "      <td>92.15</td>\n",
       "      <td>4</td>\n",
       "      <td>0</td>\n",
       "    </tr>\n",
       "  </tbody>\n",
       "</table>\n",
       "</div>"
      ],
      "text/plain": [
       "            Date       Time  windSpeed    Water  Wind dir  Pressure  \\\n",
       "17068 2019-04-27  12:30:00        5.70  0.22875     188.0    979.05   \n",
       "17069 2019-04-27   1:30:00        5.50  0.22725     225.5    978.10   \n",
       "17070 2019-04-27   2:30:00        4.60  0.22620     211.0    977.30   \n",
       "17071 2019-04-27   3:30:00        3.80  0.22505     227.0    977.00   \n",
       "17072 2019-04-27   4:30:00        2.85  0.22435     254.0    976.95   \n",
       "17073 2019-04-27   5:30:00        4.40  0.22330     260.0    977.30   \n",
       "17074 2019-04-27   6:30:00        2.85  0.22250     264.0    977.90   \n",
       "17075 2019-04-27   7:30:00        1.30  0.22180     264.5    978.70   \n",
       "17076 2019-04-27   8:30:00        0.75  0.22110     267.0    979.55   \n",
       "17077 2019-04-27   9:30:00        2.10  0.22040     267.0    980.25   \n",
       "17078 2019-04-27  10:30:00        2.65  0.21960     267.0    980.55   \n",
       "17079 2019-04-27  11:30:00        1.15  0.21960     267.0    980.65   \n",
       "17080 2019-04-28  12:30:00        1.90  0.21890     265.0    980.10   \n",
       "17081 2019-04-28   1:30:00        3.80  0.21890     201.5    979.80   \n",
       "17082 2019-04-28   2:30:00        2.25  0.21820     194.5    979.30   \n",
       "17083 2019-04-28   3:30:00        2.50  0.21820     205.0    978.90   \n",
       "17084 2019-04-28   4:30:00        1.50  0.21750     208.0    979.15   \n",
       "17085 2019-04-28   5:30:00        3.60  0.21710     194.0    979.40   \n",
       "17086 2019-04-28   6:30:00        2.50  0.21670     195.0    979.80   \n",
       "17087 2019-04-28   7:30:00        3.60  0.21670     222.0    980.60   \n",
       "\n",
       "       Temperature     RH  Month  Hour  \n",
       "17068       31.380  73.00      4     0  \n",
       "17069       32.805  68.70      4     0  \n",
       "17070       32.500  68.10      4     0  \n",
       "17071       32.425  69.75      4     0  \n",
       "17072       31.420  71.90      4     0  \n",
       "17073       29.355  77.60      4     0  \n",
       "17074       28.180  82.40      4     0  \n",
       "17075       27.675  84.60      4     0  \n",
       "17076       27.345  86.00      4     0  \n",
       "17077       26.890  87.30      4     0  \n",
       "17078       26.620  88.40      4     0  \n",
       "17079       26.340  89.35      4     0  \n",
       "17080       25.890  90.75      4     0  \n",
       "17081       25.575  92.25      4     0  \n",
       "17082       25.475  93.45      4     0  \n",
       "17083       25.090  94.40      4     0  \n",
       "17084       24.675  95.00      4     0  \n",
       "17085       24.435  95.35      4     0  \n",
       "17086       25.165  95.95      4     0  \n",
       "17087       26.925  92.15      4     0  "
      ]
     },
     "execution_count": 33,
     "metadata": {},
     "output_type": "execute_result"
    }
   ],
   "source": [
    "newData.tail(20)"
   ]
  },
  {
   "cell_type": "code",
   "execution_count": 34,
   "metadata": {},
   "outputs": [],
   "source": [
    "newData['Time']= pd.to_datetime(newData.Time)"
   ]
  },
  {
   "cell_type": "code",
   "execution_count": 35,
   "metadata": {},
   "outputs": [
    {
     "data": {
      "text/html": [
       "<div>\n",
       "<style scoped>\n",
       "    .dataframe tbody tr th:only-of-type {\n",
       "        vertical-align: middle;\n",
       "    }\n",
       "\n",
       "    .dataframe tbody tr th {\n",
       "        vertical-align: top;\n",
       "    }\n",
       "\n",
       "    .dataframe thead th {\n",
       "        text-align: right;\n",
       "    }\n",
       "</style>\n",
       "<table border=\"1\" class=\"dataframe\">\n",
       "  <thead>\n",
       "    <tr style=\"text-align: right;\">\n",
       "      <th></th>\n",
       "      <th>Date</th>\n",
       "      <th>Time</th>\n",
       "      <th>windSpeed</th>\n",
       "      <th>Water</th>\n",
       "      <th>Wind dir</th>\n",
       "      <th>Pressure</th>\n",
       "      <th>Temperature</th>\n",
       "      <th>RH</th>\n",
       "      <th>Month</th>\n",
       "      <th>Hour</th>\n",
       "    </tr>\n",
       "  </thead>\n",
       "  <tbody>\n",
       "    <tr>\n",
       "      <th>0</th>\n",
       "      <td>2017-02-16</td>\n",
       "      <td>2020-08-27 03:30:00</td>\n",
       "      <td>4.75</td>\n",
       "      <td>0.09330</td>\n",
       "      <td>45.0</td>\n",
       "      <td>976.35</td>\n",
       "      <td>34.56</td>\n",
       "      <td>39.70</td>\n",
       "      <td>2</td>\n",
       "      <td>0</td>\n",
       "    </tr>\n",
       "    <tr>\n",
       "      <th>1</th>\n",
       "      <td>2017-02-16</td>\n",
       "      <td>2020-08-27 04:30:00</td>\n",
       "      <td>3.80</td>\n",
       "      <td>0.09290</td>\n",
       "      <td>73.0</td>\n",
       "      <td>976.15</td>\n",
       "      <td>34.51</td>\n",
       "      <td>39.55</td>\n",
       "      <td>2</td>\n",
       "      <td>0</td>\n",
       "    </tr>\n",
       "    <tr>\n",
       "      <th>2</th>\n",
       "      <td>2017-02-16</td>\n",
       "      <td>2020-08-27 05:30:00</td>\n",
       "      <td>3.60</td>\n",
       "      <td>0.09215</td>\n",
       "      <td>108.0</td>\n",
       "      <td>976.45</td>\n",
       "      <td>34.05</td>\n",
       "      <td>37.90</td>\n",
       "      <td>2</td>\n",
       "      <td>0</td>\n",
       "    </tr>\n",
       "    <tr>\n",
       "      <th>3</th>\n",
       "      <td>2017-02-16</td>\n",
       "      <td>2020-08-27 06:30:00</td>\n",
       "      <td>2.30</td>\n",
       "      <td>0.09145</td>\n",
       "      <td>126.5</td>\n",
       "      <td>976.90</td>\n",
       "      <td>31.61</td>\n",
       "      <td>41.90</td>\n",
       "      <td>2</td>\n",
       "      <td>0</td>\n",
       "    </tr>\n",
       "    <tr>\n",
       "      <th>4</th>\n",
       "      <td>2017-02-16</td>\n",
       "      <td>2020-08-27 07:30:00</td>\n",
       "      <td>3.80</td>\n",
       "      <td>0.09040</td>\n",
       "      <td>136.0</td>\n",
       "      <td>977.75</td>\n",
       "      <td>30.47</td>\n",
       "      <td>44.50</td>\n",
       "      <td>2</td>\n",
       "      <td>0</td>\n",
       "    </tr>\n",
       "  </tbody>\n",
       "</table>\n",
       "</div>"
      ],
      "text/plain": [
       "        Date                Time  windSpeed    Water  Wind dir  Pressure  \\\n",
       "0 2017-02-16 2020-08-27 03:30:00       4.75  0.09330      45.0    976.35   \n",
       "1 2017-02-16 2020-08-27 04:30:00       3.80  0.09290      73.0    976.15   \n",
       "2 2017-02-16 2020-08-27 05:30:00       3.60  0.09215     108.0    976.45   \n",
       "3 2017-02-16 2020-08-27 06:30:00       2.30  0.09145     126.5    976.90   \n",
       "4 2017-02-16 2020-08-27 07:30:00       3.80  0.09040     136.0    977.75   \n",
       "\n",
       "   Temperature     RH  Month  Hour  \n",
       "0        34.56  39.70      2     0  \n",
       "1        34.51  39.55      2     0  \n",
       "2        34.05  37.90      2     0  \n",
       "3        31.61  41.90      2     0  \n",
       "4        30.47  44.50      2     0  "
      ]
     },
     "execution_count": 35,
     "metadata": {},
     "output_type": "execute_result"
    }
   ],
   "source": [
    "newData.head()"
   ]
  },
  {
   "cell_type": "code",
   "execution_count": 36,
   "metadata": {},
   "outputs": [],
   "source": [
    "newData['Hour'] = newData['Time'].dt.hour"
   ]
  },
  {
   "cell_type": "code",
   "execution_count": 37,
   "metadata": {},
   "outputs": [
    {
     "data": {
      "text/html": [
       "<div>\n",
       "<style scoped>\n",
       "    .dataframe tbody tr th:only-of-type {\n",
       "        vertical-align: middle;\n",
       "    }\n",
       "\n",
       "    .dataframe tbody tr th {\n",
       "        vertical-align: top;\n",
       "    }\n",
       "\n",
       "    .dataframe thead th {\n",
       "        text-align: right;\n",
       "    }\n",
       "</style>\n",
       "<table border=\"1\" class=\"dataframe\">\n",
       "  <thead>\n",
       "    <tr style=\"text-align: right;\">\n",
       "      <th></th>\n",
       "      <th>Date</th>\n",
       "      <th>Time</th>\n",
       "      <th>windSpeed</th>\n",
       "      <th>Water</th>\n",
       "      <th>Wind dir</th>\n",
       "      <th>Pressure</th>\n",
       "      <th>Temperature</th>\n",
       "      <th>RH</th>\n",
       "      <th>Month</th>\n",
       "      <th>Hour</th>\n",
       "    </tr>\n",
       "  </thead>\n",
       "  <tbody>\n",
       "    <tr>\n",
       "      <th>0</th>\n",
       "      <td>2017-02-16</td>\n",
       "      <td>2020-08-27 03:30:00</td>\n",
       "      <td>4.75</td>\n",
       "      <td>0.09330</td>\n",
       "      <td>45.0</td>\n",
       "      <td>976.35</td>\n",
       "      <td>34.560</td>\n",
       "      <td>39.70</td>\n",
       "      <td>2</td>\n",
       "      <td>3</td>\n",
       "    </tr>\n",
       "    <tr>\n",
       "      <th>1</th>\n",
       "      <td>2017-02-16</td>\n",
       "      <td>2020-08-27 04:30:00</td>\n",
       "      <td>3.80</td>\n",
       "      <td>0.09290</td>\n",
       "      <td>73.0</td>\n",
       "      <td>976.15</td>\n",
       "      <td>34.510</td>\n",
       "      <td>39.55</td>\n",
       "      <td>2</td>\n",
       "      <td>4</td>\n",
       "    </tr>\n",
       "    <tr>\n",
       "      <th>2</th>\n",
       "      <td>2017-02-16</td>\n",
       "      <td>2020-08-27 05:30:00</td>\n",
       "      <td>3.60</td>\n",
       "      <td>0.09215</td>\n",
       "      <td>108.0</td>\n",
       "      <td>976.45</td>\n",
       "      <td>34.050</td>\n",
       "      <td>37.90</td>\n",
       "      <td>2</td>\n",
       "      <td>5</td>\n",
       "    </tr>\n",
       "    <tr>\n",
       "      <th>3</th>\n",
       "      <td>2017-02-16</td>\n",
       "      <td>2020-08-27 06:30:00</td>\n",
       "      <td>2.30</td>\n",
       "      <td>0.09145</td>\n",
       "      <td>126.5</td>\n",
       "      <td>976.90</td>\n",
       "      <td>31.610</td>\n",
       "      <td>41.90</td>\n",
       "      <td>2</td>\n",
       "      <td>6</td>\n",
       "    </tr>\n",
       "    <tr>\n",
       "      <th>4</th>\n",
       "      <td>2017-02-16</td>\n",
       "      <td>2020-08-27 07:30:00</td>\n",
       "      <td>3.80</td>\n",
       "      <td>0.09040</td>\n",
       "      <td>136.0</td>\n",
       "      <td>977.75</td>\n",
       "      <td>30.470</td>\n",
       "      <td>44.50</td>\n",
       "      <td>2</td>\n",
       "      <td>7</td>\n",
       "    </tr>\n",
       "    <tr>\n",
       "      <th>5</th>\n",
       "      <td>2017-02-16</td>\n",
       "      <td>2020-08-27 08:30:00</td>\n",
       "      <td>2.10</td>\n",
       "      <td>0.08960</td>\n",
       "      <td>136.0</td>\n",
       "      <td>978.75</td>\n",
       "      <td>30.220</td>\n",
       "      <td>43.85</td>\n",
       "      <td>2</td>\n",
       "      <td>8</td>\n",
       "    </tr>\n",
       "    <tr>\n",
       "      <th>6</th>\n",
       "      <td>2017-02-16</td>\n",
       "      <td>2020-08-27 09:30:00</td>\n",
       "      <td>2.10</td>\n",
       "      <td>0.08925</td>\n",
       "      <td>135.5</td>\n",
       "      <td>979.60</td>\n",
       "      <td>29.435</td>\n",
       "      <td>44.70</td>\n",
       "      <td>2</td>\n",
       "      <td>9</td>\n",
       "    </tr>\n",
       "    <tr>\n",
       "      <th>7</th>\n",
       "      <td>2017-02-16</td>\n",
       "      <td>2020-08-27 10:30:00</td>\n",
       "      <td>4.55</td>\n",
       "      <td>0.08960</td>\n",
       "      <td>131.0</td>\n",
       "      <td>980.00</td>\n",
       "      <td>29.245</td>\n",
       "      <td>44.35</td>\n",
       "      <td>2</td>\n",
       "      <td>10</td>\n",
       "    </tr>\n",
       "    <tr>\n",
       "      <th>8</th>\n",
       "      <td>2017-02-16</td>\n",
       "      <td>2020-08-27 11:30:00</td>\n",
       "      <td>4.00</td>\n",
       "      <td>0.08855</td>\n",
       "      <td>195.0</td>\n",
       "      <td>980.15</td>\n",
       "      <td>27.175</td>\n",
       "      <td>68.35</td>\n",
       "      <td>2</td>\n",
       "      <td>11</td>\n",
       "    </tr>\n",
       "    <tr>\n",
       "      <th>9</th>\n",
       "      <td>2017-02-17</td>\n",
       "      <td>2020-08-27 12:30:00</td>\n",
       "      <td>3.05</td>\n",
       "      <td>0.08820</td>\n",
       "      <td>202.5</td>\n",
       "      <td>979.85</td>\n",
       "      <td>26.550</td>\n",
       "      <td>76.90</td>\n",
       "      <td>2</td>\n",
       "      <td>12</td>\n",
       "    </tr>\n",
       "  </tbody>\n",
       "</table>\n",
       "</div>"
      ],
      "text/plain": [
       "        Date                Time  windSpeed    Water  Wind dir  Pressure  \\\n",
       "0 2017-02-16 2020-08-27 03:30:00       4.75  0.09330      45.0    976.35   \n",
       "1 2017-02-16 2020-08-27 04:30:00       3.80  0.09290      73.0    976.15   \n",
       "2 2017-02-16 2020-08-27 05:30:00       3.60  0.09215     108.0    976.45   \n",
       "3 2017-02-16 2020-08-27 06:30:00       2.30  0.09145     126.5    976.90   \n",
       "4 2017-02-16 2020-08-27 07:30:00       3.80  0.09040     136.0    977.75   \n",
       "5 2017-02-16 2020-08-27 08:30:00       2.10  0.08960     136.0    978.75   \n",
       "6 2017-02-16 2020-08-27 09:30:00       2.10  0.08925     135.5    979.60   \n",
       "7 2017-02-16 2020-08-27 10:30:00       4.55  0.08960     131.0    980.00   \n",
       "8 2017-02-16 2020-08-27 11:30:00       4.00  0.08855     195.0    980.15   \n",
       "9 2017-02-17 2020-08-27 12:30:00       3.05  0.08820     202.5    979.85   \n",
       "\n",
       "   Temperature     RH  Month  Hour  \n",
       "0       34.560  39.70      2     3  \n",
       "1       34.510  39.55      2     4  \n",
       "2       34.050  37.90      2     5  \n",
       "3       31.610  41.90      2     6  \n",
       "4       30.470  44.50      2     7  \n",
       "5       30.220  43.85      2     8  \n",
       "6       29.435  44.70      2     9  \n",
       "7       29.245  44.35      2    10  \n",
       "8       27.175  68.35      2    11  \n",
       "9       26.550  76.90      2    12  "
      ]
     },
     "execution_count": 37,
     "metadata": {},
     "output_type": "execute_result"
    }
   ],
   "source": [
    "newData.head(10)"
   ]
  },
  {
   "cell_type": "code",
   "execution_count": 38,
   "metadata": {},
   "outputs": [],
   "source": [
    "newData.drop(['Date','Time'],axis=1,inplace=True)"
   ]
  },
  {
   "cell_type": "code",
   "execution_count": 39,
   "metadata": {},
   "outputs": [
    {
     "data": {
      "text/html": [
       "<div>\n",
       "<style scoped>\n",
       "    .dataframe tbody tr th:only-of-type {\n",
       "        vertical-align: middle;\n",
       "    }\n",
       "\n",
       "    .dataframe tbody tr th {\n",
       "        vertical-align: top;\n",
       "    }\n",
       "\n",
       "    .dataframe thead th {\n",
       "        text-align: right;\n",
       "    }\n",
       "</style>\n",
       "<table border=\"1\" class=\"dataframe\">\n",
       "  <thead>\n",
       "    <tr style=\"text-align: right;\">\n",
       "      <th></th>\n",
       "      <th>windSpeed</th>\n",
       "      <th>Water</th>\n",
       "      <th>Wind dir</th>\n",
       "      <th>Pressure</th>\n",
       "      <th>Temperature</th>\n",
       "      <th>RH</th>\n",
       "      <th>Month</th>\n",
       "      <th>Hour</th>\n",
       "    </tr>\n",
       "  </thead>\n",
       "  <tbody>\n",
       "    <tr>\n",
       "      <th>0</th>\n",
       "      <td>4.75</td>\n",
       "      <td>0.09330</td>\n",
       "      <td>45.0</td>\n",
       "      <td>976.35</td>\n",
       "      <td>34.56</td>\n",
       "      <td>39.70</td>\n",
       "      <td>2</td>\n",
       "      <td>3</td>\n",
       "    </tr>\n",
       "    <tr>\n",
       "      <th>1</th>\n",
       "      <td>3.80</td>\n",
       "      <td>0.09290</td>\n",
       "      <td>73.0</td>\n",
       "      <td>976.15</td>\n",
       "      <td>34.51</td>\n",
       "      <td>39.55</td>\n",
       "      <td>2</td>\n",
       "      <td>4</td>\n",
       "    </tr>\n",
       "    <tr>\n",
       "      <th>2</th>\n",
       "      <td>3.60</td>\n",
       "      <td>0.09215</td>\n",
       "      <td>108.0</td>\n",
       "      <td>976.45</td>\n",
       "      <td>34.05</td>\n",
       "      <td>37.90</td>\n",
       "      <td>2</td>\n",
       "      <td>5</td>\n",
       "    </tr>\n",
       "    <tr>\n",
       "      <th>3</th>\n",
       "      <td>2.30</td>\n",
       "      <td>0.09145</td>\n",
       "      <td>126.5</td>\n",
       "      <td>976.90</td>\n",
       "      <td>31.61</td>\n",
       "      <td>41.90</td>\n",
       "      <td>2</td>\n",
       "      <td>6</td>\n",
       "    </tr>\n",
       "    <tr>\n",
       "      <th>4</th>\n",
       "      <td>3.80</td>\n",
       "      <td>0.09040</td>\n",
       "      <td>136.0</td>\n",
       "      <td>977.75</td>\n",
       "      <td>30.47</td>\n",
       "      <td>44.50</td>\n",
       "      <td>2</td>\n",
       "      <td>7</td>\n",
       "    </tr>\n",
       "  </tbody>\n",
       "</table>\n",
       "</div>"
      ],
      "text/plain": [
       "   windSpeed    Water  Wind dir  Pressure  Temperature     RH  Month  Hour\n",
       "0       4.75  0.09330      45.0    976.35        34.56  39.70      2     3\n",
       "1       3.80  0.09290      73.0    976.15        34.51  39.55      2     4\n",
       "2       3.60  0.09215     108.0    976.45        34.05  37.90      2     5\n",
       "3       2.30  0.09145     126.5    976.90        31.61  41.90      2     6\n",
       "4       3.80  0.09040     136.0    977.75        30.47  44.50      2     7"
      ]
     },
     "execution_count": 39,
     "metadata": {},
     "output_type": "execute_result"
    }
   ],
   "source": [
    "newData.head()"
   ]
  },
  {
   "cell_type": "code",
   "execution_count": 40,
   "metadata": {},
   "outputs": [],
   "source": [
    "cols_arr = list(newData.columns.values)"
   ]
  },
  {
   "cell_type": "code",
   "execution_count": 41,
   "metadata": {},
   "outputs": [],
   "source": [
    "cols = [\n",
    " 'Month',\n",
    " 'Hour',\n",
    " 'windSpeed',\n",
    " 'Water',\n",
    " 'Wind dir',\n",
    " 'Pressure',\n",
    " 'Temperature',\n",
    " 'RH']"
   ]
  },
  {
   "cell_type": "code",
   "execution_count": 42,
   "metadata": {},
   "outputs": [],
   "source": [
    "newData = newData[cols]"
   ]
  },
  {
   "cell_type": "code",
   "execution_count": 43,
   "metadata": {
    "scrolled": false
   },
   "outputs": [
    {
     "data": {
      "text/html": [
       "<div>\n",
       "<style scoped>\n",
       "    .dataframe tbody tr th:only-of-type {\n",
       "        vertical-align: middle;\n",
       "    }\n",
       "\n",
       "    .dataframe tbody tr th {\n",
       "        vertical-align: top;\n",
       "    }\n",
       "\n",
       "    .dataframe thead th {\n",
       "        text-align: right;\n",
       "    }\n",
       "</style>\n",
       "<table border=\"1\" class=\"dataframe\">\n",
       "  <thead>\n",
       "    <tr style=\"text-align: right;\">\n",
       "      <th></th>\n",
       "      <th>Month</th>\n",
       "      <th>Hour</th>\n",
       "      <th>windSpeed</th>\n",
       "      <th>Water</th>\n",
       "      <th>Wind dir</th>\n",
       "      <th>Pressure</th>\n",
       "      <th>Temperature</th>\n",
       "      <th>RH</th>\n",
       "    </tr>\n",
       "  </thead>\n",
       "  <tbody>\n",
       "    <tr>\n",
       "      <th>0</th>\n",
       "      <td>2</td>\n",
       "      <td>3</td>\n",
       "      <td>4.75</td>\n",
       "      <td>0.09330</td>\n",
       "      <td>45.0</td>\n",
       "      <td>976.35</td>\n",
       "      <td>34.56</td>\n",
       "      <td>39.70</td>\n",
       "    </tr>\n",
       "    <tr>\n",
       "      <th>1</th>\n",
       "      <td>2</td>\n",
       "      <td>4</td>\n",
       "      <td>3.80</td>\n",
       "      <td>0.09290</td>\n",
       "      <td>73.0</td>\n",
       "      <td>976.15</td>\n",
       "      <td>34.51</td>\n",
       "      <td>39.55</td>\n",
       "    </tr>\n",
       "    <tr>\n",
       "      <th>2</th>\n",
       "      <td>2</td>\n",
       "      <td>5</td>\n",
       "      <td>3.60</td>\n",
       "      <td>0.09215</td>\n",
       "      <td>108.0</td>\n",
       "      <td>976.45</td>\n",
       "      <td>34.05</td>\n",
       "      <td>37.90</td>\n",
       "    </tr>\n",
       "    <tr>\n",
       "      <th>3</th>\n",
       "      <td>2</td>\n",
       "      <td>6</td>\n",
       "      <td>2.30</td>\n",
       "      <td>0.09145</td>\n",
       "      <td>126.5</td>\n",
       "      <td>976.90</td>\n",
       "      <td>31.61</td>\n",
       "      <td>41.90</td>\n",
       "    </tr>\n",
       "    <tr>\n",
       "      <th>4</th>\n",
       "      <td>2</td>\n",
       "      <td>7</td>\n",
       "      <td>3.80</td>\n",
       "      <td>0.09040</td>\n",
       "      <td>136.0</td>\n",
       "      <td>977.75</td>\n",
       "      <td>30.47</td>\n",
       "      <td>44.50</td>\n",
       "    </tr>\n",
       "  </tbody>\n",
       "</table>\n",
       "</div>"
      ],
      "text/plain": [
       "   Month  Hour  windSpeed    Water  Wind dir  Pressure  Temperature     RH\n",
       "0      2     3       4.75  0.09330      45.0    976.35        34.56  39.70\n",
       "1      2     4       3.80  0.09290      73.0    976.15        34.51  39.55\n",
       "2      2     5       3.60  0.09215     108.0    976.45        34.05  37.90\n",
       "3      2     6       2.30  0.09145     126.5    976.90        31.61  41.90\n",
       "4      2     7       3.80  0.09040     136.0    977.75        30.47  44.50"
      ]
     },
     "execution_count": 43,
     "metadata": {},
     "output_type": "execute_result"
    }
   ],
   "source": [
    "newData.head()"
   ]
  },
  {
   "cell_type": "code",
   "execution_count": 44,
   "metadata": {},
   "outputs": [],
   "source": [
    "newData['Month'] = newData['Month'].astype('float64')"
   ]
  },
  {
   "cell_type": "code",
   "execution_count": 45,
   "metadata": {},
   "outputs": [],
   "source": [
    "newData['Hour'] = newData['Hour'].astype('float64')"
   ]
  },
  {
   "cell_type": "code",
   "execution_count": 46,
   "metadata": {},
   "outputs": [
    {
     "data": {
      "text/html": [
       "<div>\n",
       "<style scoped>\n",
       "    .dataframe tbody tr th:only-of-type {\n",
       "        vertical-align: middle;\n",
       "    }\n",
       "\n",
       "    .dataframe tbody tr th {\n",
       "        vertical-align: top;\n",
       "    }\n",
       "\n",
       "    .dataframe thead th {\n",
       "        text-align: right;\n",
       "    }\n",
       "</style>\n",
       "<table border=\"1\" class=\"dataframe\">\n",
       "  <thead>\n",
       "    <tr style=\"text-align: right;\">\n",
       "      <th></th>\n",
       "      <th>Month</th>\n",
       "      <th>Hour</th>\n",
       "      <th>windSpeed</th>\n",
       "      <th>Water</th>\n",
       "      <th>Wind dir</th>\n",
       "      <th>Pressure</th>\n",
       "      <th>Temperature</th>\n",
       "      <th>RH</th>\n",
       "    </tr>\n",
       "  </thead>\n",
       "  <tbody>\n",
       "    <tr>\n",
       "      <th>0</th>\n",
       "      <td>2.0</td>\n",
       "      <td>3.0</td>\n",
       "      <td>4.75</td>\n",
       "      <td>0.09330</td>\n",
       "      <td>45.0</td>\n",
       "      <td>976.35</td>\n",
       "      <td>34.56</td>\n",
       "      <td>39.70</td>\n",
       "    </tr>\n",
       "    <tr>\n",
       "      <th>1</th>\n",
       "      <td>2.0</td>\n",
       "      <td>4.0</td>\n",
       "      <td>3.80</td>\n",
       "      <td>0.09290</td>\n",
       "      <td>73.0</td>\n",
       "      <td>976.15</td>\n",
       "      <td>34.51</td>\n",
       "      <td>39.55</td>\n",
       "    </tr>\n",
       "    <tr>\n",
       "      <th>2</th>\n",
       "      <td>2.0</td>\n",
       "      <td>5.0</td>\n",
       "      <td>3.60</td>\n",
       "      <td>0.09215</td>\n",
       "      <td>108.0</td>\n",
       "      <td>976.45</td>\n",
       "      <td>34.05</td>\n",
       "      <td>37.90</td>\n",
       "    </tr>\n",
       "    <tr>\n",
       "      <th>3</th>\n",
       "      <td>2.0</td>\n",
       "      <td>6.0</td>\n",
       "      <td>2.30</td>\n",
       "      <td>0.09145</td>\n",
       "      <td>126.5</td>\n",
       "      <td>976.90</td>\n",
       "      <td>31.61</td>\n",
       "      <td>41.90</td>\n",
       "    </tr>\n",
       "    <tr>\n",
       "      <th>4</th>\n",
       "      <td>2.0</td>\n",
       "      <td>7.0</td>\n",
       "      <td>3.80</td>\n",
       "      <td>0.09040</td>\n",
       "      <td>136.0</td>\n",
       "      <td>977.75</td>\n",
       "      <td>30.47</td>\n",
       "      <td>44.50</td>\n",
       "    </tr>\n",
       "  </tbody>\n",
       "</table>\n",
       "</div>"
      ],
      "text/plain": [
       "   Month  Hour  windSpeed    Water  Wind dir  Pressure  Temperature     RH\n",
       "0    2.0   3.0       4.75  0.09330      45.0    976.35        34.56  39.70\n",
       "1    2.0   4.0       3.80  0.09290      73.0    976.15        34.51  39.55\n",
       "2    2.0   5.0       3.60  0.09215     108.0    976.45        34.05  37.90\n",
       "3    2.0   6.0       2.30  0.09145     126.5    976.90        31.61  41.90\n",
       "4    2.0   7.0       3.80  0.09040     136.0    977.75        30.47  44.50"
      ]
     },
     "execution_count": 46,
     "metadata": {},
     "output_type": "execute_result"
    }
   ],
   "source": [
    "newData.head()"
   ]
  },
  {
   "cell_type": "code",
   "execution_count": 47,
   "metadata": {
    "scrolled": false
   },
   "outputs": [
    {
     "data": {
      "text/html": [
       "<div>\n",
       "<style scoped>\n",
       "    .dataframe tbody tr th:only-of-type {\n",
       "        vertical-align: middle;\n",
       "    }\n",
       "\n",
       "    .dataframe tbody tr th {\n",
       "        vertical-align: top;\n",
       "    }\n",
       "\n",
       "    .dataframe thead th {\n",
       "        text-align: right;\n",
       "    }\n",
       "</style>\n",
       "<table border=\"1\" class=\"dataframe\">\n",
       "  <thead>\n",
       "    <tr style=\"text-align: right;\">\n",
       "      <th></th>\n",
       "      <th>Month</th>\n",
       "      <th>Hour</th>\n",
       "      <th>windSpeed</th>\n",
       "      <th>Water</th>\n",
       "      <th>Wind dir</th>\n",
       "      <th>Pressure</th>\n",
       "      <th>Temperature</th>\n",
       "      <th>RH</th>\n",
       "    </tr>\n",
       "  </thead>\n",
       "  <tbody>\n",
       "    <tr>\n",
       "      <th>count</th>\n",
       "      <td>17088.000000</td>\n",
       "      <td>17088.000000</td>\n",
       "      <td>17088.000000</td>\n",
       "      <td>17088.000000</td>\n",
       "      <td>17088.000000</td>\n",
       "      <td>17088.000000</td>\n",
       "      <td>17088.000000</td>\n",
       "      <td>17088.000000</td>\n",
       "    </tr>\n",
       "    <tr>\n",
       "      <th>mean</th>\n",
       "      <td>5.817065</td>\n",
       "      <td>6.499649</td>\n",
       "      <td>3.789949</td>\n",
       "      <td>0.168981</td>\n",
       "      <td>191.761324</td>\n",
       "      <td>979.910569</td>\n",
       "      <td>26.465530</td>\n",
       "      <td>77.368440</td>\n",
       "    </tr>\n",
       "    <tr>\n",
       "      <th>std</th>\n",
       "      <td>3.287480</td>\n",
       "      <td>3.452272</td>\n",
       "      <td>1.684853</td>\n",
       "      <td>0.042054</td>\n",
       "      <td>69.278274</td>\n",
       "      <td>2.209753</td>\n",
       "      <td>3.791953</td>\n",
       "      <td>19.435437</td>\n",
       "    </tr>\n",
       "    <tr>\n",
       "      <th>min</th>\n",
       "      <td>1.000000</td>\n",
       "      <td>1.000000</td>\n",
       "      <td>0.400000</td>\n",
       "      <td>0.083800</td>\n",
       "      <td>1.000000</td>\n",
       "      <td>972.600000</td>\n",
       "      <td>17.930000</td>\n",
       "      <td>11.300000</td>\n",
       "    </tr>\n",
       "    <tr>\n",
       "      <th>25%</th>\n",
       "      <td>3.000000</td>\n",
       "      <td>3.000000</td>\n",
       "      <td>2.650000</td>\n",
       "      <td>0.132500</td>\n",
       "      <td>169.500000</td>\n",
       "      <td>978.400000</td>\n",
       "      <td>23.410000</td>\n",
       "      <td>67.400000</td>\n",
       "    </tr>\n",
       "    <tr>\n",
       "      <th>50%</th>\n",
       "      <td>5.000000</td>\n",
       "      <td>6.000000</td>\n",
       "      <td>3.800000</td>\n",
       "      <td>0.172400</td>\n",
       "      <td>198.000000</td>\n",
       "      <td>980.000000</td>\n",
       "      <td>25.612500</td>\n",
       "      <td>83.050000</td>\n",
       "    </tr>\n",
       "    <tr>\n",
       "      <th>75%</th>\n",
       "      <td>9.000000</td>\n",
       "      <td>9.250000</td>\n",
       "      <td>4.750000</td>\n",
       "      <td>0.203700</td>\n",
       "      <td>232.000000</td>\n",
       "      <td>981.450000</td>\n",
       "      <td>29.166250</td>\n",
       "      <td>92.900000</td>\n",
       "    </tr>\n",
       "    <tr>\n",
       "      <th>max</th>\n",
       "      <td>12.000000</td>\n",
       "      <td>12.000000</td>\n",
       "      <td>17.900000</td>\n",
       "      <td>0.351450</td>\n",
       "      <td>358.000000</td>\n",
       "      <td>987.800000</td>\n",
       "      <td>38.270000</td>\n",
       "      <td>100.000000</td>\n",
       "    </tr>\n",
       "  </tbody>\n",
       "</table>\n",
       "</div>"
      ],
      "text/plain": [
       "              Month          Hour     windSpeed         Water      Wind dir  \\\n",
       "count  17088.000000  17088.000000  17088.000000  17088.000000  17088.000000   \n",
       "mean       5.817065      6.499649      3.789949      0.168981    191.761324   \n",
       "std        3.287480      3.452272      1.684853      0.042054     69.278274   \n",
       "min        1.000000      1.000000      0.400000      0.083800      1.000000   \n",
       "25%        3.000000      3.000000      2.650000      0.132500    169.500000   \n",
       "50%        5.000000      6.000000      3.800000      0.172400    198.000000   \n",
       "75%        9.000000      9.250000      4.750000      0.203700    232.000000   \n",
       "max       12.000000     12.000000     17.900000      0.351450    358.000000   \n",
       "\n",
       "           Pressure   Temperature            RH  \n",
       "count  17088.000000  17088.000000  17088.000000  \n",
       "mean     979.910569     26.465530     77.368440  \n",
       "std        2.209753      3.791953     19.435437  \n",
       "min      972.600000     17.930000     11.300000  \n",
       "25%      978.400000     23.410000     67.400000  \n",
       "50%      980.000000     25.612500     83.050000  \n",
       "75%      981.450000     29.166250     92.900000  \n",
       "max      987.800000     38.270000    100.000000  "
      ]
     },
     "execution_count": 47,
     "metadata": {},
     "output_type": "execute_result"
    }
   ],
   "source": [
    "newData.describe()"
   ]
  },
  {
   "cell_type": "markdown",
   "metadata": {},
   "source": [
    "## Data Exploratory Analysis"
   ]
  },
  {
   "cell_type": "code",
   "execution_count": 48,
   "metadata": {
    "scrolled": true
   },
   "outputs": [
    {
     "name": "stdout",
     "output_type": "stream",
     "text": [
      "Month\n",
      "8.0     89.177835\n",
      "9.0     88.750208\n",
      "7.0     88.228404\n",
      "6.0     86.954851\n",
      "10.0    85.988870\n",
      "11.0    84.427841\n",
      "5.0     82.517698\n",
      "4.0     78.440692\n",
      "3.0     71.080494\n",
      "12.0    66.537164\n",
      "2.0     59.879876\n",
      "1.0     53.875018\n",
      "Name: RH, dtype: float64\n"
     ]
    },
    {
     "data": {
      "image/png": "[encoded data removed]",
      "text/plain": [
       "<Figure size 1152x576 with 1 Axes>"
      ]
     },
     "metadata": {
      "needs_background": "light"
     },
     "output_type": "display_data"
    }
   ],
   "source": [
    "fig = plt.figure(figsize=(16,8))\n",
    "ax = fig.add_subplot(111)\n",
    "df1 = newData.groupby('Month').mean().sort_values(by='RH',\n",
    "            ascending=False)['RH'].plot(kind='bar',color='r',width=0.3,title='Monthly Average Relative Humidity',fontsize=20)\n",
    "plt.ylabel('Average Relative Humidity')\n",
    "ax.title.set_fontsize(30)\n",
    "ax.xaxis.label.set_fontsize(20)\n",
    "ax.yaxis.label.set_fontsize(20)\n",
    "print( newData.groupby('Month').mean().sort_values(by='RH',\n",
    "            ascending=False)['RH'])"
   ]
  },
  {
   "cell_type": "code",
   "execution_count": null,
   "metadata": {},
   "outputs": [],
   "source": []
  },
  {
   "cell_type": "code",
   "execution_count": 49,
   "metadata": {},
   "outputs": [],
   "source": [
    "df2 = newData.groupby('Hour').sum()['RH']\n",
    "df2_n = pd.DataFrame(df2)\n",
    "# for key,val in df2.items():\n",
    "#     print(key)\n",
    "#     print(val)\n"
   ]
  },
  {
   "cell_type": "code",
   "execution_count": 50,
   "metadata": {},
   "outputs": [],
   "source": [
    "df2_n['Hour'] = df2_n.index"
   ]
  },
  {
   "cell_type": "code",
   "execution_count": 51,
   "metadata": {},
   "outputs": [
    {
     "data": {
      "image/png": "[encoded data removed]",
      "text/plain": [
       "<Figure size 1152x576 with 1 Axes>"
      ]
     },
     "metadata": {
      "needs_background": "light"
     },
     "output_type": "display_data"
    }
   ],
   "source": [
    "\n",
    "fig = plt.figure(figsize=(16,8))\n",
    "ax = fig.add_subplot(111)\n",
    "sns.lineplot(x='Hour',y='RH',data=df2_n)\n",
    "plt.ylabel('Overall Relative Humidity')\n",
    "ax.title.set_fontsize(30)\n",
    "ax.xaxis.label.set_fontsize(20)\n",
    "ax.yaxis.label.set_fontsize(20)"
   ]
  },
  {
   "cell_type": "code",
   "execution_count": 52,
   "metadata": {},
   "outputs": [],
   "source": [
    "numeric_features = ['windSpeed','Water','Wind dir','Pressure','Temperature']"
   ]
  },
  {
   "cell_type": "code",
   "execution_count": 53,
   "metadata": {},
   "outputs": [
    {
     "data": {
      "text/plain": [
       "Text(0, 0.5, 'Humidity')"
      ]
     },
     "execution_count": 53,
     "metadata": {},
     "output_type": "execute_result"
    },
    {
     "data": {
      "image/png": "[encoded data removed]",
      "text/plain": [
       "<Figure size 1080x360 with 3 Axes>"
      ]
     },
     "metadata": {
      "needs_background": "light"
     },
     "output_type": "display_data"
    }
   ],
   "source": [
    "fig,axes = plt.subplots(1,3,figsize=(15,5))\n",
    "#Temperature with RH\n",
    "sns.scatterplot(x='Temperature',y='RH',hue='Water',data=newData,ax=axes[0])\n",
    "plt.xlabel('Temperature')\n",
    "plt.ylabel('Humidity')\n",
    "\n",
    "sns.scatterplot(x='Pressure',y='RH',hue='Water',data=newData,ax=axes[1])\n",
    "plt.xlabel('Pressure')\n",
    "plt.ylabel('Humidity')\n",
    "\n",
    "sns.scatterplot(x='Wind dir',y='RH',hue='Water',data=newData,ax=axes[2])\n",
    "plt.xlabel('Wind dir')\n",
    "plt.ylabel('Humidity')"
   ]
  },
  {
   "cell_type": "code",
   "execution_count": 54,
   "metadata": {
    "scrolled": false
   },
   "outputs": [
    {
     "data": {
      "image/png": "[encoded data removed]",
      "text/plain": [
       "<Figure size 648x432 with 1 Axes>"
      ]
     },
     "metadata": {
      "needs_background": "light"
     },
     "output_type": "display_data"
    },
    {
     "data": {
      "image/png": "[encoded data removed]",
      "text/plain": [
       "<Figure size 648x432 with 1 Axes>"
      ]
     },
     "metadata": {
      "needs_background": "light"
     },
     "output_type": "display_data"
    },
    {
     "data": {
      "image/png": "[encoded data removed]",
      "text/plain": [
       "<Figure size 648x432 with 1 Axes>"
      ]
     },
     "metadata": {
      "needs_background": "light"
     },
     "output_type": "display_data"
    },
    {
     "data": {
      "image/png": "[encoded data removed]",
      "text/plain": [
       "<Figure size 648x432 with 1 Axes>"
      ]
     },
     "metadata": {
      "needs_background": "light"
     },
     "output_type": "display_data"
    },
    {
     "data": {
      "image/png": "[encoded data removed]",
      "text/plain": [
       "<Figure size 648x432 with 1 Axes>"
      ]
     },
     "metadata": {
      "needs_background": "light"
     },
     "output_type": "display_data"
    }
   ],
   "source": [
    "for col in numeric_features:\n",
    "    fig = plt.figure(figsize=(9, 6))\n",
    "    ax = fig.gca()\n",
    "    feature = newData[col]\n",
    "    feature.hist(color='lightblue', bins=100, ax = ax)\n",
    "    ax.axvline(feature.mean(), color='magenta', linestyle='dashed', linewidth=2)\n",
    "    ax.axvline(feature.median(), color='green', linestyle='dashed', linewidth=2)\n",
    "    ax.set_title(col)\n",
    "plt.show()"
   ]
  },
  {
   "cell_type": "code",
   "execution_count": 55,
   "metadata": {},
   "outputs": [
    {
     "data": {
      "image/png": "[encoded data removed]",
      "text/plain": [
       "<Figure size 1080x288 with 1 Axes>"
      ]
     },
     "metadata": {},
     "output_type": "display_data"
    }
   ],
   "source": [
    "d1 = newData.groupby('Month').aggregate({'RH':'mean'})\n",
    "d1 = d1.reset_index()\n",
    "sns.set()\n",
    "plt.figure(figsize=(15, 4))\n",
    "ax = sns.lineplot(x='Month', y='RH', data=d1)\n",
    "ax.set(xticks=d1.Month.values)\n",
    "plt.xlabel(\"\\nMonth Records of Humidity\")\n",
    "plt.ylabel(\"Humidity Recorded\")\n",
    "plt.title(\"Average RH Per Month  \\n\")\n",
    "plt.show()"
   ]
  },
  {
   "cell_type": "code",
   "execution_count": 56,
   "metadata": {
    "scrolled": false
   },
   "outputs": [
    {
     "data": {
      "image/png": "[encoded data removed]",
      "text/plain": [
       "<Figure size 1080x288 with 1 Axes>"
      ]
     },
     "metadata": {},
     "output_type": "display_data"
    }
   ],
   "source": [
    "d2 = newData.groupby('Month').aggregate({'Temperature':'mean'})\n",
    "d2 = d1.reset_index()\n",
    "sns.set()\n",
    "plt.figure(figsize=(15, 4))\n",
    "ax = sns.lineplot(x='Month', y='RH', data=d2)\n",
    "ax.set(xticks=d2.Month.values)\n",
    "plt.xlabel(\"\\nMonth Records of Temperature\")\n",
    "plt.ylabel(\"Temperature Recorded\")\n",
    "plt.title(\"Average Temperature Per Month  \\n\")\n",
    "plt.show()"
   ]
  },
  {
   "cell_type": "code",
   "execution_count": 57,
   "metadata": {},
   "outputs": [],
   "source": [
    "from sklearn.compose import ColumnTransformer\n",
    "from sklearn.pipeline import Pipeline\n",
    "from sklearn.impute import SimpleImputer\n",
    "from sklearn.preprocessing import StandardScaler, OneHotEncoder,LabelBinarizer\n",
    "from sklearn.model_selection import train_test_split"
   ]
  },
  {
   "cell_type": "code",
   "execution_count": 58,
   "metadata": {},
   "outputs": [],
   "source": [
    "target = newData.RH\n",
    "data = newData.drop('RH',axis=1)"
   ]
  },
  {
   "cell_type": "code",
   "execution_count": 59,
   "metadata": {
    "scrolled": true
   },
   "outputs": [
    {
     "data": {
      "text/html": [
       "<div>\n",
       "<style scoped>\n",
       "    .dataframe tbody tr th:only-of-type {\n",
       "        vertical-align: middle;\n",
       "    }\n",
       "\n",
       "    .dataframe tbody tr th {\n",
       "        vertical-align: top;\n",
       "    }\n",
       "\n",
       "    .dataframe thead th {\n",
       "        text-align: right;\n",
       "    }\n",
       "</style>\n",
       "<table border=\"1\" class=\"dataframe\">\n",
       "  <thead>\n",
       "    <tr style=\"text-align: right;\">\n",
       "      <th></th>\n",
       "      <th>Month</th>\n",
       "      <th>Hour</th>\n",
       "      <th>windSpeed</th>\n",
       "      <th>Water</th>\n",
       "      <th>Wind dir</th>\n",
       "      <th>Pressure</th>\n",
       "      <th>Temperature</th>\n",
       "    </tr>\n",
       "  </thead>\n",
       "  <tbody>\n",
       "    <tr>\n",
       "      <th>0</th>\n",
       "      <td>2.0</td>\n",
       "      <td>3.0</td>\n",
       "      <td>4.75</td>\n",
       "      <td>0.09330</td>\n",
       "      <td>45.0</td>\n",
       "      <td>976.35</td>\n",
       "      <td>34.56</td>\n",
       "    </tr>\n",
       "    <tr>\n",
       "      <th>1</th>\n",
       "      <td>2.0</td>\n",
       "      <td>4.0</td>\n",
       "      <td>3.80</td>\n",
       "      <td>0.09290</td>\n",
       "      <td>73.0</td>\n",
       "      <td>976.15</td>\n",
       "      <td>34.51</td>\n",
       "    </tr>\n",
       "    <tr>\n",
       "      <th>2</th>\n",
       "      <td>2.0</td>\n",
       "      <td>5.0</td>\n",
       "      <td>3.60</td>\n",
       "      <td>0.09215</td>\n",
       "      <td>108.0</td>\n",
       "      <td>976.45</td>\n",
       "      <td>34.05</td>\n",
       "    </tr>\n",
       "    <tr>\n",
       "      <th>3</th>\n",
       "      <td>2.0</td>\n",
       "      <td>6.0</td>\n",
       "      <td>2.30</td>\n",
       "      <td>0.09145</td>\n",
       "      <td>126.5</td>\n",
       "      <td>976.90</td>\n",
       "      <td>31.61</td>\n",
       "    </tr>\n",
       "    <tr>\n",
       "      <th>4</th>\n",
       "      <td>2.0</td>\n",
       "      <td>7.0</td>\n",
       "      <td>3.80</td>\n",
       "      <td>0.09040</td>\n",
       "      <td>136.0</td>\n",
       "      <td>977.75</td>\n",
       "      <td>30.47</td>\n",
       "    </tr>\n",
       "  </tbody>\n",
       "</table>\n",
       "</div>"
      ],
      "text/plain": [
       "   Month  Hour  windSpeed    Water  Wind dir  Pressure  Temperature\n",
       "0    2.0   3.0       4.75  0.09330      45.0    976.35        34.56\n",
       "1    2.0   4.0       3.80  0.09290      73.0    976.15        34.51\n",
       "2    2.0   5.0       3.60  0.09215     108.0    976.45        34.05\n",
       "3    2.0   6.0       2.30  0.09145     126.5    976.90        31.61\n",
       "4    2.0   7.0       3.80  0.09040     136.0    977.75        30.47"
      ]
     },
     "execution_count": 59,
     "metadata": {},
     "output_type": "execute_result"
    }
   ],
   "source": [
    "data.head()"
   ]
  },
  {
   "cell_type": "code",
   "execution_count": 60,
   "metadata": {},
   "outputs": [],
   "source": [
    "scaler = StandardScaler()"
   ]
  },
  {
   "cell_type": "code",
   "execution_count": 61,
   "metadata": {},
   "outputs": [],
   "source": [
    "data.iloc[:,2:7] = scaler.fit_transform(data.iloc[:,2:7])"
   ]
  },
  {
   "cell_type": "code",
   "execution_count": 62,
   "metadata": {},
   "outputs": [],
   "source": [
    "x_train,x_test,y_train,y_test=train_test_split(data,target,test_size=0.2,random_state=123)"
   ]
  },
  {
   "cell_type": "markdown",
   "metadata": {},
   "source": [
    "## Training With XGBOOST"
   ]
  },
  {
   "cell_type": "code",
   "execution_count": 63,
   "metadata": {},
   "outputs": [],
   "source": [
    "#from sklearn import cross_validation\n",
    "import xgboost as xgb\n",
    "from sklearn.model_selection import RandomizedSearchCV,GridSearchCV"
   ]
  },
  {
   "cell_type": "code",
   "execution_count": 64,
   "metadata": {},
   "outputs": [],
   "source": [
    "gbm = xgb.XGBRegressor()"
   ]
  },
  {
   "cell_type": "code",
   "execution_count": 65,
   "metadata": {
    "scrolled": true
   },
   "outputs": [
    {
     "name": "stderr",
     "output_type": "stream",
     "text": [
      "C:\\Users\\Tornado\\.conda\\envs\\tensorflow_env\\lib\\site-packages\\xgboost\\core.py:587: FutureWarning: Series.base is deprecated and will be removed in a future version\n",
      "  if getattr(data, 'base', None) is not None and \\\n"
     ]
    },
    {
     "name": "stdout",
     "output_type": "stream",
     "text": [
      "[06:46:06] WARNING: src/objective/regression_obj.cu:152: reg:linear is now deprecated in favor of reg:squarederror.\n"
     ]
    },
    {
     "data": {
      "text/plain": [
       "XGBRegressor(base_score=0.5, booster='gbtree', colsample_bylevel=1,\n",
       "             colsample_bynode=1, colsample_bytree=1, gamma=0,\n",
       "             importance_type='gain', learning_rate=0.1, max_delta_step=0,\n",
       "             max_depth=3, min_child_weight=1, missing=None, n_estimators=100,\n",
       "             n_jobs=1, nthread=None, objective='reg:linear', random_state=0,\n",
       "             reg_alpha=0, reg_lambda=1, scale_pos_weight=1, seed=None,\n",
       "             silent=None, subsample=1, verbosity=1)"
      ]
     },
     "execution_count": 65,
     "metadata": {},
     "output_type": "execute_result"
    }
   ],
   "source": [
    "gbm.fit(x_train,y_train) "
   ]
  },
  {
   "cell_type": "code",
   "execution_count": 66,
   "metadata": {},
   "outputs": [],
   "source": [
    "xgd_predict = gbm.predict(x_test)"
   ]
  },
  {
   "cell_type": "code",
   "execution_count": 67,
   "metadata": {},
   "outputs": [
    {
     "data": {
      "text/plain": [
       "0.8934040433091538"
      ]
     },
     "execution_count": 67,
     "metadata": {},
     "output_type": "execute_result"
    }
   ],
   "source": [
    "gbm.score(x_train,y_train)"
   ]
  },
  {
   "cell_type": "markdown",
   "metadata": {},
   "source": [
    "## with LIGHTGBM"
   ]
  },
  {
   "cell_type": "code",
   "execution_count": 68,
   "metadata": {},
   "outputs": [],
   "source": [
    "import lightgbm as lgb\n",
    "import catboost as cgb\n",
    "from sklearn.model_selection import cross_val_score,KFold\n",
    "from sklearn.metrics import r2_score"
   ]
  },
  {
   "cell_type": "code",
   "execution_count": 69,
   "metadata": {},
   "outputs": [],
   "source": [
    "lg_reg = lgb.LGBMRegressor(max_depth=10,n_estimators=1000,learning_rate=0.1)"
   ]
  },
  {
   "cell_type": "code",
   "execution_count": 70,
   "metadata": {},
   "outputs": [],
   "source": [
    "from sklearn.metrics import accuracy_score"
   ]
  },
  {
   "cell_type": "code",
   "execution_count": 71,
   "metadata": {},
   "outputs": [
    {
     "data": {
      "text/plain": [
       "LGBMRegressor(boosting_type='gbdt', class_weight=None, colsample_bytree=1.0,\n",
       "              importance_type='split', learning_rate=0.1, max_depth=10,\n",
       "              min_child_samples=20, min_child_weight=0.001, min_split_gain=0.0,\n",
       "              n_estimators=1000, n_jobs=-1, num_leaves=31, objective=None,\n",
       "              random_state=None, reg_alpha=0.0, reg_lambda=0.0, silent=True,\n",
       "              subsample=1.0, subsample_for_bin=200000, subsample_freq=0)"
      ]
     },
     "execution_count": 71,
     "metadata": {},
     "output_type": "execute_result"
    }
   ],
   "source": [
    "lg_reg.fit(x_train,y_train)"
   ]
  },
  {
   "cell_type": "code",
   "execution_count": 72,
   "metadata": {},
   "outputs": [
    {
     "data": {
      "text/plain": [
       "0.9895704219653911"
      ]
     },
     "execution_count": 72,
     "metadata": {},
     "output_type": "execute_result"
    }
   ],
   "source": [
    "lg_reg.score(x_train,y_train)"
   ]
  },
  {
   "cell_type": "code",
   "execution_count": 73,
   "metadata": {},
   "outputs": [],
   "source": [
    "lg_predict=lg_reg.predict(x_test)"
   ]
  },
  {
   "cell_type": "code",
   "execution_count": 74,
   "metadata": {},
   "outputs": [
    {
     "data": {
      "text/plain": [
       "array([86.40110603, 96.00491545, 68.9436592 , ..., 90.99030174,\n",
       "       70.40103582, 69.48334008])"
      ]
     },
     "execution_count": 74,
     "metadata": {},
     "output_type": "execute_result"
    }
   ],
   "source": [
    "lg_predict"
   ]
  },
  {
   "cell_type": "code",
   "execution_count": 75,
   "metadata": {},
   "outputs": [
    {
     "data": {
      "text/plain": [
       "0.9365134531221126"
      ]
     },
     "execution_count": 75,
     "metadata": {},
     "output_type": "execute_result"
    }
   ],
   "source": [
    "lg_reg.score(x_test,y_test)"
   ]
  },
  {
   "cell_type": "code",
   "execution_count": 76,
   "metadata": {},
   "outputs": [],
   "source": [
    "x_val =[[2.0,3.0,4.75,0.09330,45.0,976.35,34.56],\n",
    "       [2.0,7.0,3.80,0.09040,136.0,977.75,30.47]]"
   ]
  },
  {
   "cell_type": "code",
   "execution_count": 77,
   "metadata": {},
   "outputs": [
    {
     "data": {
      "text/plain": [
       "array([32.98770236, 33.51467452])"
      ]
     },
     "execution_count": 77,
     "metadata": {},
     "output_type": "execute_result"
    }
   ],
   "source": [
    "lg_reg.predict(x_val)"
   ]
  },
  {
   "cell_type": "markdown",
   "metadata": {},
   "source": [
    "## with RandomForesT"
   ]
  },
  {
   "cell_type": "code",
   "execution_count": 78,
   "metadata": {},
   "outputs": [],
   "source": [
    "from sklearn.ensemble import RandomForestRegressor"
   ]
  },
  {
   "cell_type": "code",
   "execution_count": 79,
   "metadata": {},
   "outputs": [],
   "source": [
    "rf_reg = RandomForestRegressor()"
   ]
  },
  {
   "cell_type": "code",
   "execution_count": 80,
   "metadata": {},
   "outputs": [
    {
     "data": {
      "text/plain": [
       "RandomForestRegressor(bootstrap=True, ccp_alpha=0.0, criterion='mse',\n",
       "                      max_depth=None, max_features='auto', max_leaf_nodes=None,\n",
       "                      max_samples=None, min_impurity_decrease=0.0,\n",
       "                      min_impurity_split=None, min_samples_leaf=1,\n",
       "                      min_samples_split=2, min_weight_fraction_leaf=0.0,\n",
       "                      n_estimators=100, n_jobs=None, oob_score=False,\n",
       "                      random_state=None, verbose=0, warm_start=False)"
      ]
     },
     "execution_count": 80,
     "metadata": {},
     "output_type": "execute_result"
    }
   ],
   "source": [
    "rf_reg.fit(x_train,y_train)"
   ]
  },
  {
   "cell_type": "code",
   "execution_count": 81,
   "metadata": {},
   "outputs": [
    {
     "data": {
      "text/plain": [
       "0.9889963467597864"
      ]
     },
     "execution_count": 81,
     "metadata": {},
     "output_type": "execute_result"
    }
   ],
   "source": [
    "rf_reg.score(x_train,y_train)"
   ]
  },
  {
   "cell_type": "code",
   "execution_count": 82,
   "metadata": {},
   "outputs": [],
   "source": [
    "predict=rf_reg.predict(x_test)"
   ]
  },
  {
   "cell_type": "code",
   "execution_count": 83,
   "metadata": {},
   "outputs": [
    {
     "data": {
      "text/plain": [
       "0.9274851530949457"
      ]
     },
     "execution_count": 83,
     "metadata": {},
     "output_type": "execute_result"
    }
   ],
   "source": [
    "r2_score(y_test,predict)"
   ]
  },
  {
   "cell_type": "code",
   "execution_count": 84,
   "metadata": {
    "scrolled": true
   },
   "outputs": [
    {
     "data": {
      "text/plain": [
       "0.9274851530949457"
      ]
     },
     "execution_count": 84,
     "metadata": {},
     "output_type": "execute_result"
    }
   ],
   "source": [
    "rf_reg.score(x_test,y_test)"
   ]
  },
  {
   "cell_type": "code",
   "execution_count": 85,
   "metadata": {},
   "outputs": [],
   "source": [
    "from sklearn.metrics import mean_squared_error,mean_absolute_error"
   ]
  },
  {
   "cell_type": "code",
   "execution_count": 86,
   "metadata": {
    "scrolled": true
   },
   "outputs": [
    {
     "name": "stdout",
     "output_type": "stream",
     "text": [
      "MSE: 24.397631784362723\n",
      "RMSE: 4.939395892653546\n",
      "R2: 0.9365134531221128\n"
     ]
    },
    {
     "data": {
      "image/png": "[encoded data removed]",
      "text/plain": [
       "<Figure size 432x288 with 1 Axes>"
      ]
     },
     "metadata": {},
     "output_type": "display_data"
    }
   ],
   "source": [
    "mse = mean_squared_error(y_test, lg_predict)\n",
    "print(\"MSE:\", mse)\n",
    "rmse = np.sqrt(mse)\n",
    "print(\"RMSE:\", rmse)\n",
    "r2 = r2_score(y_test, lg_predict)\n",
    "print(\"R2:\", r2)\n",
    "\n",
    "plt.scatter(y_test,lg_predict, color='lightblue')\n",
    "plt.xlabel('Actual Labels')\n",
    "plt.ylabel('Predicted Labels')\n",
    "plt.title('Hourly humidity prediction')\n",
    "z = np.polyfit(y_test,lg_predict, 1)\n",
    "p = np.poly1d(z)\n",
    "plt.plot(y_test,p(y_test))\n",
    "plt.show()"
   ]
  },
  {
   "cell_type": "markdown",
   "metadata": {},
   "source": [
    "## Training With Gradient Boosting"
   ]
  },
  {
   "cell_type": "code",
   "execution_count": 87,
   "metadata": {},
   "outputs": [],
   "source": [
    "from sklearn.ensemble import GradientBoostingRegressor"
   ]
  },
  {
   "cell_type": "code",
   "execution_count": 88,
   "metadata": {},
   "outputs": [
    {
     "data": {
      "text/plain": [
       "GradientBoostingRegressor(alpha=0.9, ccp_alpha=0.0, criterion='friedman_mse',\n",
       "                          init=None, learning_rate=0.01, loss='ls',\n",
       "                          max_depth=10, max_features=None, max_leaf_nodes=None,\n",
       "                          min_impurity_decrease=0.0, min_impurity_split=None,\n",
       "                          min_samples_leaf=1, min_samples_split=2,\n",
       "                          min_weight_fraction_leaf=0.0, n_estimators=500,\n",
       "                          n_iter_no_change=None, presort='deprecated',\n",
       "                          random_state=None, subsample=1.0, tol=0.0001,\n",
       "                          validation_fraction=0.1, verbose=0, warm_start=False)"
      ]
     },
     "execution_count": 88,
     "metadata": {},
     "output_type": "execute_result"
    }
   ],
   "source": [
    "gbrt = GradientBoostingRegressor(max_depth=10, n_estimators=500, learning_rate=0.01)\n",
    "gbrt.fit(x_train, y_train)"
   ]
  },
  {
   "cell_type": "code",
   "execution_count": 89,
   "metadata": {},
   "outputs": [],
   "source": [
    "gbr_predict = gbrt.predict(x_test)"
   ]
  },
  {
   "cell_type": "code",
   "execution_count": 90,
   "metadata": {
    "scrolled": true
   },
   "outputs": [
    {
     "data": {
      "text/plain": [
       "0.9327604630637091"
      ]
     },
     "execution_count": 90,
     "metadata": {},
     "output_type": "execute_result"
    }
   ],
   "source": [
    "gbrt.score(x_test,y_test)"
   ]
  },
  {
   "cell_type": "markdown",
   "metadata": {},
   "source": [
    "## Ensemble Regressor Training"
   ]
  },
  {
   "cell_type": "code",
   "execution_count": 91,
   "metadata": {},
   "outputs": [],
   "source": [
    "from sklearn.ensemble import VotingRegressor"
   ]
  },
  {
   "cell_type": "code",
   "execution_count": 92,
   "metadata": {},
   "outputs": [
    {
     "name": "stdout",
     "output_type": "stream",
     "text": [
      "[06:48:25] WARNING: src/objective/regression_obj.cu:152: reg:linear is now deprecated in favor of reg:squarederror.\n"
     ]
    },
    {
     "data": {
      "text/plain": [
       "VotingRegressor(estimators=[('rf',\n",
       "                             RandomForestRegressor(bootstrap=True,\n",
       "                                                   ccp_alpha=0.0,\n",
       "                                                   criterion='mse',\n",
       "                                                   max_depth=None,\n",
       "                                                   max_features='auto',\n",
       "                                                   max_leaf_nodes=None,\n",
       "                                                   max_samples=None,\n",
       "                                                   min_impurity_decrease=0.0,\n",
       "                                                   min_impurity_split=None,\n",
       "                                                   min_samples_leaf=1,\n",
       "                                                   min_samples_split=2,\n",
       "                                                   min_weight_fraction_leaf=0.0,\n",
       "                                                   n_estimators=100,\n",
       "                                                   n_jobs=None, oob_score=False,\n",
       "                                                   random_state=N...\n",
       "                                          colsample_bylevel=1,\n",
       "                                          colsample_bynode=1,\n",
       "                                          colsample_bytree=1, gamma=0,\n",
       "                                          importance_type='gain',\n",
       "                                          learning_rate=0.1, max_delta_step=0,\n",
       "                                          max_depth=3, min_child_weight=1,\n",
       "                                          missing=None, n_estimators=100,\n",
       "                                          n_jobs=1, nthread=None,\n",
       "                                          objective='reg:linear',\n",
       "                                          random_state=0, reg_alpha=0,\n",
       "                                          reg_lambda=1, scale_pos_weight=1,\n",
       "                                          seed=None, silent=None, subsample=1,\n",
       "                                          verbosity=1))],\n",
       "                n_jobs=None, weights=None)"
      ]
     },
     "execution_count": 92,
     "metadata": {},
     "output_type": "execute_result"
    }
   ],
   "source": [
    "voting_Ref = VotingRegressor(\n",
    " estimators=[('rf' , rf_reg), ('lgbm' , lg_reg), ('gb' , gbrt),('xgb' , gbm)])\n",
    "voting_Ref. fit(x_train, y_train)"
   ]
  },
  {
   "cell_type": "code",
   "execution_count": 93,
   "metadata": {},
   "outputs": [
    {
     "name": "stdout",
     "output_type": "stream",
     "text": [
      "RandomForestRegressor 0.927109104599402\n",
      "LGBMRegressor 0.9365134531221128\n",
      "GradientBoostingRegressor 0.9327989935827234\n",
      "[06:49:19] WARNING: src/objective/regression_obj.cu:152: reg:linear is now deprecated in favor of reg:squarederror.\n"
     ]
    },
    {
     "name": "stderr",
     "output_type": "stream",
     "text": [
      "C:\\Users\\Tornado\\.conda\\envs\\tensorflow_env\\lib\\site-packages\\xgboost\\core.py:587: FutureWarning: Series.base is deprecated and will be removed in a future version\n",
      "  if getattr(data, 'base', None) is not None and \\\n"
     ]
    },
    {
     "name": "stdout",
     "output_type": "stream",
     "text": [
      "XGBRegressor 0.8824862420440792\n",
      "[06:50:09] WARNING: src/objective/regression_obj.cu:152: reg:linear is now deprecated in favor of reg:squarederror.\n",
      "VotingRegressor 0.9313574505156228\n"
     ]
    }
   ],
   "source": [
    "for clf in (rf_reg,lg_reg,gbrt,gbm,voting_Ref):\n",
    "    clf.fit(x_train, y_train)\n",
    "    new_pred = clf. predict(x_test)\n",
    "    print(clf. __class__. __name__, r2_score(y_test, new_pred))"
   ]
  },
  {
   "cell_type": "code",
   "execution_count": 94,
   "metadata": {},
   "outputs": [],
   "source": [
    "X_train = np.append(arr=np.ones([x_train.shape[0],1]).astype(int),values=x_train,axis=1)"
   ]
  },
  {
   "cell_type": "code",
   "execution_count": 95,
   "metadata": {},
   "outputs": [
    {
     "data": {
      "text/plain": [
       "['humidity-share.pkl']"
      ]
     },
     "execution_count": 95,
     "metadata": {},
     "output_type": "execute_result"
    }
   ],
   "source": [
    "import joblib\n",
    "\n",
    "# Save the model as a pickle file\n",
    "filename = 'humidity-share.pkl'\n",
    "joblib.dump(lg_reg, filename)"
   ]
  },
  {
   "cell_type": "code",
   "execution_count": 96,
   "metadata": {},
   "outputs": [
    {
     "name": "stdout",
     "output_type": "stream",
     "text": [
      "New sample: [array([2.0000e+00, 3.0000e+00, 4.7500e+00, 9.3300e-02, 4.5000e+01,\n",
      "       9.7635e+02, 3.4560e+01]), array([2.0000e+00, 7.0000e+00, 3.8000e+00, 9.0400e-02, 1.3600e+02,\n",
      "       9.7775e+02, 3.0470e+01])]\n",
      "Prediction: [33. 34.] RH\n",
      "Month 2.0\n",
      "Hour 3.0\n"
     ]
    }
   ],
   "source": [
    "# Load the model from the file\n",
    "loaded_model = joblib.load(filename)\n",
    "\n",
    "# Create a numpy array containing a new observation (for example tomorrow's seasonal and weather forecast information)\n",
    "X_new = np.array([[2.0,3.0,4.75,0.09330,45.0,976.35,34.56],\n",
    "                  [2.0,7.0,3.80,0.09040,136.0,977.75,30.47]]).astype('float64')\n",
    "print ('New sample: {}'.format(list(X_new)))\n",
    "\n",
    "# Use the model to predict tomorrow's rentals\n",
    "result = loaded_model.predict(X_new)\n",
    "print(f'Prediction: {np.round(result)} RH')\n",
    "print('Month',X_new[0][0])\n",
    "print('Hour',X_new[0][1])"
   ]
  },
  {
   "cell_type": "code",
   "execution_count": null,
   "metadata": {},
   "outputs": [],
   "source": []
  }
 ],
 "metadata": {
  "kernelspec": {
   "display_name": "Python 3",
   "language": "python",
   "name": "python3"
  },
  "language_info": {
   "codemirror_mode": {
    "name": "ipython",
    "version": 3
   },
   "file_extension": ".py",
   "mimetype": "text/x-python",
   "name": "python",
   "nbconvert_exporter": "python",
   "pygments_lexer": "ipython3",
   "version": "3.7.7"
  }
 },
 "nbformat": 4,
 "nbformat_minor": 4
}
